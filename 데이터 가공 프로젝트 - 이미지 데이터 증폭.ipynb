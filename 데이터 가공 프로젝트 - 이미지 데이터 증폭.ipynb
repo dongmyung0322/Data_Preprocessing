{
 "cells": [
  {
   "cell_type": "code",
   "execution_count": 1,
   "id": "b171e74a",
   "metadata": {},
   "outputs": [],
   "source": [
    "import time\n",
    "import os\n",
    "import urllib, requests\n",
    "import glob\n",
    "from tqdm import tqdm\n",
    "from PIL import Image\n",
    "import cv2"
   ]
  },
  {
   "cell_type": "code",
   "execution_count": 10,
   "id": "9f830be2",
   "metadata": {},
   "outputs": [],
   "source": [
    "def img_aug_angle(img, file_name):\n",
    "    img = cv2.cvtColor(img,cv2.COLOR_BGR2RGB)\n",
    "    \n",
    "    angle = 20\n",
    "    (h,w) = img.shape[:2]\n",
    "    center = (w//2, h//2)\n",
    "    M = cv2.getRotationMatrix2D(center, angle, 1.0)\n",
    "    img_rotated = cv2.warpAffine(img, M, (w,h))\n",
    "    \n",
    "    file_name = f'rotate_{file_name}'\n",
    "    file_path = f'./mango_img_aug_dataset/{file_name}'\n",
    "    cv2.imwrite(file_path,img_rotated)\n",
    "    \n",
    "def img_aug_flip(img, file_name):\n",
    "\n",
    "    img = cv2.cvtColor(img,cv2.COLOR_BGR2RGB)\n",
    "    \n",
    "    # 반전\n",
    "    flipped_rightLeft = cv2.flip(img,1)\n",
    "    flipped_topBottom = cv2.flip(img,0)\n",
    "    \n",
    "    file_name_right = f'flipped_rightLeft_{file_name}'\n",
    "    file_name_up = f'flipped_topBottom_{file_name}'\n",
    "    \n",
    "    file_path_right = f'./dataset_aug_img/{file_name_right}'\n",
    "    file_path_up = f'./dataset_aug_img/{file_name_up}'\n",
    "    cv2.imwrite(file_path_right, flipped_rightLeft)\n",
    "    cv2.imwrite(file_path_up, filpped_topBottom)\n",
    "    \n",
    "def img_aug_hsv(img, file_name):\n",
    "    img_hsv = cv2.cvtColor(img, cv2.COLOR_BGR2HSV)\n",
    "    satuation_factor = 0.8\n",
    "    img_hsv[:,:,1] = img_hsv[:,:,1] * satuation_factor\n",
    "    img_satuated = cv2.cvtColor(img_hsv, cv2.COLOR_HSV2RGB)\n",
    "    \n",
    "    file_name = f'satuated_{file_name}'\n",
    "    file_path = f'./dataset_aug_img/{file_name}'\n",
    "    \n",
    "#def img_aug()"
   ]
  },
  {
   "cell_type": "code",
   "execution_count": 11,
   "id": "25aec68c",
   "metadata": {},
   "outputs": [],
   "source": [
    "data_path = './mango_img_dataset'\n",
    "\n",
    "img_path_list = glob.glob(os.path.join(data_path, '*.png'))\n",
    "\n",
    "os.makedirs('./mango_img_aug_dataset/', exist_ok=True)\n",
    "\n",
    "for path in img_path_list:\n",
    "    img_name = path.split('\\\\')[-1]\n",
    "    \n",
    "    img = cv2.imread(path)\n",
    "    \n",
    "    img_aug_angle(img, img_name)\n",
    "    "
   ]
  },
  {
   "cell_type": "code",
   "execution_count": null,
   "id": "9ead88b4",
   "metadata": {},
   "outputs": [],
   "source": []
  }
 ],
 "metadata": {
  "kernelspec": {
   "display_name": "condatorch",
   "language": "python",
   "name": "condatorch"
  },
  "language_info": {
   "codemirror_mode": {
    "name": "ipython",
    "version": 3
   },
   "file_extension": ".py",
   "mimetype": "text/x-python",
   "name": "python",
   "nbconvert_exporter": "python",
   "pygments_lexer": "ipython3",
   "version": "3.8.16"
  }
 },
 "nbformat": 4,
 "nbformat_minor": 5
}
