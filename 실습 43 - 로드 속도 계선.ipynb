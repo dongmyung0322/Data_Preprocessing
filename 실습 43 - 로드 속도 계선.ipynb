{
 "cells": [
  {
   "cell_type": "code",
   "execution_count": 1,
   "id": "a35a7a31",
   "metadata": {},
   "outputs": [],
   "source": [
    "import torch\n",
    "import os \n",
    "import glob\n",
    "from PIL import Image\n",
    "from torch.utils.data import Dataset, DataLoader\n",
    "from torchvision import transforms"
   ]
  },
  {
   "cell_type": "code",
   "execution_count": 2,
   "id": "015eb741",
   "metadata": {},
   "outputs": [],
   "source": [
    "def is_grayscale(img):\n",
    "    return img.mode == 'L'"
   ]
  },
  {
   "cell_type": "code",
   "execution_count": 8,
   "id": "18395b87",
   "metadata": {},
   "outputs": [],
   "source": [
    "class CustomImageDataset(Dataset):\n",
    "    def __init__(self, image_paths, transform):\n",
    "        self.image_paths = glob.glob(os.path.join(image_paths, '*', '*', '*.jpg'))       # 이미지 폴더 내 jpg파일만 호출\n",
    "        self.transform = transform\n",
    "        self.label_dict = {'dew':0, 'fogsmog':1, 'frost':2, 'glaze':3, 'hail':4, 'lightning':5, 'rain':6, 'rainbow':7,\n",
    "                          'rime':8, 'sandstorm':9, 'snow':10}\n",
    "        \n",
    "        self.cache()\n",
    "        \n",
    "    def __getitem__(self,index):\n",
    "        if index in self.cache:\n",
    "            img, label = self.cache[index]\n",
    "        else: \n",
    "            image_path = self.image_paths[index]\n",
    "            print(image_path)\n",
    "            img = Image.open(image_path).convert('RGB')\n",
    "\n",
    "            if not is_grayscale(img):\n",
    "                folder_name = image_path.split('\\\\')\n",
    "                folder_name = folder_name[2]\n",
    "\n",
    "                label = self.label_dict[folder_name]\n",
    "                \n",
    "                self.cache[index] = (img,label)\n",
    "\n",
    "            else:\n",
    "                print('흑백이미지 >>>', image_path)\n",
    "                return None, None\n",
    "                \n",
    "        if self.transform:\n",
    "            img = self.transform(img)\n",
    "\n",
    "        return img, label\n",
    "\n",
    "        \n",
    "    def __len__(self):\n",
    "        return len(self.image_paths)"
   ]
  },
  {
   "cell_type": "code",
   "execution_count": 4,
   "id": "1bfecf7c",
   "metadata": {},
   "outputs": [],
   "source": [
    "transform = transforms.Compose([\n",
    "    transforms.Resize((224,224)),\n",
    "    transforms.ToTensor()\n",
    "])"
   ]
  },
  {
   "cell_type": "code",
   "execution_count": 5,
   "id": "033399f7",
   "metadata": {},
   "outputs": [],
   "source": [
    "image_paths = './data/sample_data_01/'\n",
    "dataset = CustomImageDataset(image_paths, transform=transform)\n",
    "\n",
    "data_loader = DataLoader(dataset, 32, shuffle=True)"
   ]
  },
  {
   "cell_type": "code",
   "execution_count": null,
   "id": "afe4d735",
   "metadata": {},
   "outputs": [],
   "source": []
  }
 ],
 "metadata": {
  "kernelspec": {
   "display_name": "condatorch",
   "language": "python",
   "name": "condatorch"
  },
  "language_info": {
   "codemirror_mode": {
    "name": "ipython",
    "version": 3
   },
   "file_extension": ".py",
   "mimetype": "text/x-python",
   "name": "python",
   "nbconvert_exporter": "python",
   "pygments_lexer": "ipython3",
   "version": "3.8.16"
  }
 },
 "nbformat": 4,
 "nbformat_minor": 5
}
