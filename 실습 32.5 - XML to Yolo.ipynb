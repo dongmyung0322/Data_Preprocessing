{
 "cells": [
  {
   "cell_type": "code",
   "execution_count": 1,
   "id": "9a42a425",
   "metadata": {},
   "outputs": [],
   "source": [
    "import os\n",
    "import cv2\n",
    "import matplotlib.pyplot as plt\n",
    "from xml.etree.ElementTree import parse"
   ]
  },
  {
   "cell_type": "code",
   "execution_count": 2,
   "id": "30cc8149",
   "metadata": {},
   "outputs": [],
   "source": [
    "label_number_dict = {'cat' :0, 'dog' : 1}"
   ]
  },
  {
   "cell_type": "code",
   "execution_count": 13,
   "id": "f189245c",
   "metadata": {},
   "outputs": [],
   "source": [
    "def xml_read(xml_path):\n",
    "    root = parse(xml_path).getroot()\n",
    "    \n",
    "    img_info = root.findall('image')\n",
    "    \n",
    "    for image in img_info:\n",
    "        bbox = image.findall('box')\n",
    "        \n",
    "        image_width = image.attrib['width']\n",
    "        image_height = image.attrib['height']\n",
    "        \n",
    "        image_name = image.attrib['name']\n",
    "        image_name_temp = image_name\n",
    "        image_path = os.path.join('./data/', image_name)\n",
    "        \n",
    "        img = cv2.imread(image_path)\n",
    "        img = cv2.cvtColor(img, cv2.COLOR_BGR2RGB)\n",
    "        \n",
    "        for box in bbox:\n",
    "            label = box.attrib['label']\n",
    "            \n",
    "            xtl=box.attrib['xtl']\n",
    "            ytl=box.attrib['ytl']\n",
    "            xbr=box.attrib['xbr']\n",
    "            ybr=box.attrib['ybr']\n",
    "            \n",
    "            x1 = int(float(xtl))\n",
    "            y1 = int(float(ytl))\n",
    "            x2 = int(float(xbr))\n",
    "            y2 = int(float(ybr))\n",
    "            \n",
    "            img_width_i = int(image_width)\n",
    "            img_height_i = int(image_height)\n",
    "            \n",
    "            center_x = ((x2*x1)/(2*img_width_i))\n",
    "            center_y = ((y2*y1)/(2*img_height_i))\n",
    "            yolo_w = (x2-x1)/img_width_i\n",
    "            yolo_h = (y2-y1)/img_height_h\n",
    "            \n",
    "            \n",
    "            image_name_temp = image_name_temp.replace('.jpg', '')\n",
    "            \n",
    "            label_num = label_number_dict[label]\n",
    "            print('yolo좌표: ', center_x, center_y, yolo_w, yolo_h,label)\n",
    "            \n",
    "        with open(f\"./data/{file_name_temp}.txt\", \"a\") as f:\n",
    "            f.write(f\"{label_name} {center_x} {center_y} {yolo_w} {yolo_h} \\n\")\n",
    "            "
   ]
  },
  {
   "cell_type": "code",
   "execution_count": 14,
   "id": "472e49d2",
   "metadata": {},
   "outputs": [
    {
     "ename": "NameError",
     "evalue": "name 'img_height_h' is not defined",
     "output_type": "error",
     "traceback": [
      "\u001b[1;31m---------------------------------------------------------------------------\u001b[0m",
      "\u001b[1;31mNameError\u001b[0m                                 Traceback (most recent call last)",
      "Cell \u001b[1;32mIn[14], line 1\u001b[0m\n\u001b[1;32m----> 1\u001b[0m \u001b[43mxml_read\u001b[49m\u001b[43m(\u001b[49m\u001b[38;5;124;43m'\u001b[39;49m\u001b[38;5;124;43m./data/annotations.xml\u001b[39;49m\u001b[38;5;124;43m'\u001b[39;49m\u001b[43m)\u001b[49m\n",
      "Cell \u001b[1;32mIn[13], line 36\u001b[0m, in \u001b[0;36mxml_read\u001b[1;34m(xml_path)\u001b[0m\n\u001b[0;32m     33\u001b[0m img_height_i \u001b[38;5;241m=\u001b[39m \u001b[38;5;28mint\u001b[39m(image_height)\n\u001b[0;32m     35\u001b[0m center_x \u001b[38;5;241m=\u001b[39m ((x2\u001b[38;5;241m*\u001b[39mx1)\u001b[38;5;241m/\u001b[39m(\u001b[38;5;241m2\u001b[39m\u001b[38;5;241m*\u001b[39mimg_width_i))\n\u001b[1;32m---> 36\u001b[0m center_y \u001b[38;5;241m=\u001b[39m ((y2\u001b[38;5;241m*\u001b[39my1)\u001b[38;5;241m/\u001b[39m(\u001b[38;5;241m2\u001b[39m\u001b[38;5;241m*\u001b[39m\u001b[43mimg_height_h\u001b[49m))\n\u001b[0;32m     37\u001b[0m yolo_w \u001b[38;5;241m=\u001b[39m (x2\u001b[38;5;241m-\u001b[39mx1)\u001b[38;5;241m/\u001b[39mimg_width_i\n\u001b[0;32m     38\u001b[0m yolo_h \u001b[38;5;241m=\u001b[39m (y2\u001b[38;5;241m-\u001b[39my1)\u001b[38;5;241m/\u001b[39mimg_height_h\n",
      "\u001b[1;31mNameError\u001b[0m: name 'img_height_h' is not defined"
     ]
    }
   ],
   "source": [
    "xml_read('./data/annotations.xml')"
   ]
  },
  {
   "cell_type": "code",
   "execution_count": null,
   "id": "68ed0094",
   "metadata": {},
   "outputs": [],
   "source": []
  }
 ],
 "metadata": {
  "kernelspec": {
   "display_name": "condatorch",
   "language": "python",
   "name": "condatorch"
  },
  "language_info": {
   "codemirror_mode": {
    "name": "ipython",
    "version": 3
   },
   "file_extension": ".py",
   "mimetype": "text/x-python",
   "name": "python",
   "nbconvert_exporter": "python",
   "pygments_lexer": "ipython3",
   "version": "3.8.16"
  }
 },
 "nbformat": 4,
 "nbformat_minor": 5
}
