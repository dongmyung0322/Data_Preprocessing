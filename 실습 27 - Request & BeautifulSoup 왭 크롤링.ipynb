{
 "cells": [
  {
   "cell_type": "code",
   "execution_count": 2,
   "id": "f696af2e",
   "metadata": {},
   "outputs": [
    {
     "name": "stdout",
     "output_type": "stream",
     "text": [
      "Requirement already satisfied: requests in c:\\anaconda3\\envs\\condatorch\\lib\\site-packages (2.31.0)\n",
      "Requirement already satisfied: urllib3<3,>=1.21.1 in c:\\anaconda3\\envs\\condatorch\\lib\\site-packages (from requests) (2.0.3)\n",
      "Requirement already satisfied: idna<4,>=2.5 in c:\\anaconda3\\envs\\condatorch\\lib\\site-packages (from requests) (3.4)\n",
      "Requirement already satisfied: certifi>=2017.4.17 in c:\\anaconda3\\envs\\condatorch\\lib\\site-packages (from requests) (2023.5.7)\n",
      "Requirement already satisfied: charset-normalizer<4,>=2 in c:\\anaconda3\\envs\\condatorch\\lib\\site-packages (from requests) (3.1.0)\n",
      "Collecting beautifulsoup4==4.11.1\n",
      "  Downloading beautifulsoup4-4.11.1-py3-none-any.whl (128 kB)\n",
      "     ---------------------------------------- 0.0/128.2 kB ? eta -:--:--\n",
      "     ------------------------------------ - 122.9/128.2 kB 7.0 MB/s eta 0:00:01\n",
      "     -------------------------------------- 128.2/128.2 kB 1.9 MB/s eta 0:00:00\n",
      "Requirement already satisfied: soupsieve>1.2 in c:\\anaconda3\\envs\\condatorch\\lib\\site-packages (from beautifulsoup4==4.11.1) (2.4.1)\n",
      "Installing collected packages: beautifulsoup4\n",
      "  Attempting uninstall: beautifulsoup4\n",
      "    Found existing installation: beautifulsoup4 4.12.2\n",
      "    Uninstalling beautifulsoup4-4.12.2:\n",
      "      Successfully uninstalled beautifulsoup4-4.12.2\n",
      "Successfully installed beautifulsoup4-4.11.1\n"
     ]
    }
   ],
   "source": [
    "#! pip install requests\n",
    "#! pip install beautifulsoup4==4.11.1"
   ]
  },
  {
   "cell_type": "code",
   "execution_count": 3,
   "id": "8f9c2d63",
   "metadata": {},
   "outputs": [],
   "source": [
    "import requests\n",
    "from bs4 import BeautifulSoup\n",
    "import os"
   ]
  },
  {
   "cell_type": "code",
   "execution_count": 6,
   "id": "2b0487ad",
   "metadata": {},
   "outputs": [
    {
     "name": "stdout",
     "output_type": "stream",
     "text": [
      "[<img alt=\"Google\" class=\"kgJEQe\" src=\"/images/branding/searchlogo/1x/googlelogo_desk_heirloom_color_150x55dp.gif\"/>, <img alt=\"\" class=\"yWs4tf\" src=\"https://encrypted-tbn0.gstatic.com/images?q=tbn:ANd9GcTcphgszxR6saYFj-4lYLrYPzWVwOfw6WNOJ7_7wIHO6dTylT-X8Z8IGv-Sog8&amp;s\"/>, <img alt=\"\" class=\"yWs4tf\" src=\"https://encrypted-tbn0.gstatic.com/images?q=tbn:ANd9GcToSjh7ZNYssLfOwocI9z26wYRKvLiaJAcIa-gmST4VkNK7qbl9pQoUB1IF4w&amp;s\"/>, <img alt=\"\" class=\"yWs4tf\" src=\"https://encrypted-tbn0.gstatic.com/images?q=tbn:ANd9GcTCzZXZKPyapDs3YPcBDX-nA3jI5i0wCiYtXfxD5290dAgofc2Hs5W6zgrtoMk&amp;s\"/>, <img alt=\"\" class=\"yWs4tf\" src=\"https://encrypted-tbn0.gstatic.com/images?q=tbn:ANd9GcSPYh4Z1PVVmbTWo82DFnEhsTeEa6f0i9MmMdyeYyZs8zlmbnsKNc8eoTCZWw&amp;s\"/>, <img alt=\"\" class=\"yWs4tf\" src=\"https://encrypted-tbn0.gstatic.com/images?q=tbn:ANd9GcQUbHRS4MgjBVUuScBgBpe9-e8l-aBQgr7LJat5NAHXSH2Vg8WLsMgk3RuYI3s&amp;s\"/>, <img alt=\"\" class=\"yWs4tf\" src=\"https://encrypted-tbn0.gstatic.com/images?q=tbn:ANd9GcREia-jaIhrpubAyI7o3ijiS8AIHXRGCe3k0QkC-bw0n61gzO99RnwFBzIqQA&amp;s\"/>, <img alt=\"\" class=\"yWs4tf\" src=\"https://encrypted-tbn0.gstatic.com/images?q=tbn:ANd9GcRTWZYi4dZ5WhUpn6_iCS5GoG8phOtQvxQQ1IrovXFRkf0uUD1rN2pc8U34iNM&amp;s\"/>, <img alt=\"\" class=\"yWs4tf\" src=\"https://encrypted-tbn0.gstatic.com/images?q=tbn:ANd9GcRQ8bM02ULMxe5dtQTJfJnPWjo-qn_XIJebTpODYygNAUhSrJPezEwIC42dXg&amp;s\"/>, <img alt=\"\" class=\"yWs4tf\" src=\"https://encrypted-tbn0.gstatic.com/images?q=tbn:ANd9GcTZou52MJ5Hr-WcgyJgpBwRXzc1ittvwnz9IQ3SHbIo9ZN37lX0eGAJ8pLZ21U&amp;s\"/>, <img alt=\"\" class=\"yWs4tf\" src=\"https://encrypted-tbn0.gstatic.com/images?q=tbn:ANd9GcQj7HZmYG4j4dH1HCb2HCx2r2OXgOkdWalkN2lmJNCOnZAPqQvTRWshMfobcWk&amp;s\"/>, <img alt=\"\" class=\"yWs4tf\" src=\"https://encrypted-tbn0.gstatic.com/images?q=tbn:ANd9GcQmg15Po_bVhzQCtoEdCbk75hkG0qtI0hrrZwbbHFiTogvAicDf0vQS9N2tbfA&amp;s\"/>, <img alt=\"\" class=\"yWs4tf\" src=\"https://encrypted-tbn0.gstatic.com/images?q=tbn:ANd9GcTlJVqdnPvLZp2JC4lfQtxP-X-Y84pif0hAzrGa5ybAmtM6O4NwTWDvPDol5VA&amp;s\"/>, <img alt=\"\" class=\"yWs4tf\" src=\"https://encrypted-tbn0.gstatic.com/images?q=tbn:ANd9GcQfiPrjNHQd5WaQp6NOwWSz097GYhx_cNPgCu_ymjbQxXn8QYevsYqqjdCip0w&amp;s\"/>, <img alt=\"\" class=\"yWs4tf\" src=\"https://encrypted-tbn0.gstatic.com/images?q=tbn:ANd9GcSkP32jUV4s1JbjRe9F4jx1pmB8Wq0WHRttqKR-W3u0APqEUEdxCoCjANWrml0&amp;s\"/>, <img alt=\"\" class=\"yWs4tf\" src=\"https://encrypted-tbn0.gstatic.com/images?q=tbn:ANd9GcSSx9hLfvcM-pni4PBrKfI5fJlE2RS3YG0Y8WsOItx0wdrNdmIrku4-CbWEP1I&amp;s\"/>, <img alt=\"\" class=\"yWs4tf\" src=\"https://encrypted-tbn0.gstatic.com/images?q=tbn:ANd9GcQSHJpgHsT38bWVcuYWh9yqmiBB3vAEtaTPEYMwegp9ddYp8cen-vLU1o1POQc&amp;s\"/>, <img alt=\"\" class=\"yWs4tf\" src=\"https://encrypted-tbn0.gstatic.com/images?q=tbn:ANd9GcT86siCoxtpk91h3obSSCppQWoFeIrGYAmmTr-OCP9acGcZ2acqCVADJmYAGXE&amp;s\"/>, <img alt=\"\" class=\"yWs4tf\" src=\"https://encrypted-tbn0.gstatic.com/images?q=tbn:ANd9GcTF6t-rUXSb9DBh1_lLOhyRo2lQVU3pmXJZy3z67hg8zRNEkExWtz0xGjy2RQ&amp;s\"/>, <img alt=\"\" class=\"yWs4tf\" src=\"https://encrypted-tbn0.gstatic.com/images?q=tbn:ANd9GcRgOA9ZVKC56xHp5xPucxUKJIf0aGmTIp08J1aaIC1HoXoTAqra_WtFFsW9mg&amp;s\"/>, <img alt=\"\" class=\"yWs4tf\" src=\"https://encrypted-tbn0.gstatic.com/images?q=tbn:ANd9GcTTzWrvKu0-Hr1_vIaoKg7qdv-xdZvyhGG8zNozG0yombH64qZkgQnVP9utcw&amp;s\"/>]\n"
     ]
    }
   ],
   "source": [
    "# 키워드 \n",
    "query = '사과'\n",
    "url = f\"https://www.google.com/search?q={query}&source-lnms&tbm=isch\"\n",
    "header = {\"User-Agent\": \"Mozilla/5.0 (Windows NT 10.0; Win64; x64) AppleWebKit/537.36 (KHTML, like Gecko) Chrome/58.0.3029.110 Safari/537.3\"}\n",
    "response = requests.get(url, headers=header)\n",
    "\n",
    "soup = BeautifulSoup(response.text,'html.parser')\n",
    "img_tags = soup.find_all('img')\n",
    "print(img_tags)"
   ]
  },
  {
   "cell_type": "code",
   "execution_count": 8,
   "id": "66c216f1",
   "metadata": {},
   "outputs": [
    {
     "name": "stdout",
     "output_type": "stream",
     "text": [
      "['/images/branding/searchlogo/1x/googlelogo_desk_heirloom_color_150x55dp.gif', 'https://encrypted-tbn0.gstatic.com/images?q=tbn:ANd9GcTcphgszxR6saYFj-4lYLrYPzWVwOfw6WNOJ7_7wIHO6dTylT-X8Z8IGv-Sog8&s', 'https://encrypted-tbn0.gstatic.com/images?q=tbn:ANd9GcToSjh7ZNYssLfOwocI9z26wYRKvLiaJAcIa-gmST4VkNK7qbl9pQoUB1IF4w&s', 'https://encrypted-tbn0.gstatic.com/images?q=tbn:ANd9GcTCzZXZKPyapDs3YPcBDX-nA3jI5i0wCiYtXfxD5290dAgofc2Hs5W6zgrtoMk&s', 'https://encrypted-tbn0.gstatic.com/images?q=tbn:ANd9GcSPYh4Z1PVVmbTWo82DFnEhsTeEa6f0i9MmMdyeYyZs8zlmbnsKNc8eoTCZWw&s', 'https://encrypted-tbn0.gstatic.com/images?q=tbn:ANd9GcQUbHRS4MgjBVUuScBgBpe9-e8l-aBQgr7LJat5NAHXSH2Vg8WLsMgk3RuYI3s&s', 'https://encrypted-tbn0.gstatic.com/images?q=tbn:ANd9GcREia-jaIhrpubAyI7o3ijiS8AIHXRGCe3k0QkC-bw0n61gzO99RnwFBzIqQA&s', 'https://encrypted-tbn0.gstatic.com/images?q=tbn:ANd9GcRTWZYi4dZ5WhUpn6_iCS5GoG8phOtQvxQQ1IrovXFRkf0uUD1rN2pc8U34iNM&s', 'https://encrypted-tbn0.gstatic.com/images?q=tbn:ANd9GcRQ8bM02ULMxe5dtQTJfJnPWjo-qn_XIJebTpODYygNAUhSrJPezEwIC42dXg&s', 'https://encrypted-tbn0.gstatic.com/images?q=tbn:ANd9GcTZou52MJ5Hr-WcgyJgpBwRXzc1ittvwnz9IQ3SHbIo9ZN37lX0eGAJ8pLZ21U&s', 'https://encrypted-tbn0.gstatic.com/images?q=tbn:ANd9GcQj7HZmYG4j4dH1HCb2HCx2r2OXgOkdWalkN2lmJNCOnZAPqQvTRWshMfobcWk&s', 'https://encrypted-tbn0.gstatic.com/images?q=tbn:ANd9GcQmg15Po_bVhzQCtoEdCbk75hkG0qtI0hrrZwbbHFiTogvAicDf0vQS9N2tbfA&s', 'https://encrypted-tbn0.gstatic.com/images?q=tbn:ANd9GcTlJVqdnPvLZp2JC4lfQtxP-X-Y84pif0hAzrGa5ybAmtM6O4NwTWDvPDol5VA&s', 'https://encrypted-tbn0.gstatic.com/images?q=tbn:ANd9GcQfiPrjNHQd5WaQp6NOwWSz097GYhx_cNPgCu_ymjbQxXn8QYevsYqqjdCip0w&s', 'https://encrypted-tbn0.gstatic.com/images?q=tbn:ANd9GcSkP32jUV4s1JbjRe9F4jx1pmB8Wq0WHRttqKR-W3u0APqEUEdxCoCjANWrml0&s', 'https://encrypted-tbn0.gstatic.com/images?q=tbn:ANd9GcSSx9hLfvcM-pni4PBrKfI5fJlE2RS3YG0Y8WsOItx0wdrNdmIrku4-CbWEP1I&s', 'https://encrypted-tbn0.gstatic.com/images?q=tbn:ANd9GcQSHJpgHsT38bWVcuYWh9yqmiBB3vAEtaTPEYMwegp9ddYp8cen-vLU1o1POQc&s', 'https://encrypted-tbn0.gstatic.com/images?q=tbn:ANd9GcT86siCoxtpk91h3obSSCppQWoFeIrGYAmmTr-OCP9acGcZ2acqCVADJmYAGXE&s', 'https://encrypted-tbn0.gstatic.com/images?q=tbn:ANd9GcTF6t-rUXSb9DBh1_lLOhyRo2lQVU3pmXJZy3z67hg8zRNEkExWtz0xGjy2RQ&s', 'https://encrypted-tbn0.gstatic.com/images?q=tbn:ANd9GcRgOA9ZVKC56xHp5xPucxUKJIf0aGmTIp08J1aaIC1HoXoTAqra_WtFFsW9mg&s', 'https://encrypted-tbn0.gstatic.com/images?q=tbn:ANd9GcTTzWrvKu0-Hr1_vIaoKg7qdv-xdZvyhGG8zNozG0yombH64qZkgQnVP9utcw&s']\n"
     ]
    }
   ],
   "source": [
    "urls_list = []\n",
    "\n",
    "for img_tag in img_tags:\n",
    "    try:\n",
    "        urls_list.append(img_tag['data-src'])\n",
    "    except KeyError:\n",
    "            try:\n",
    "                urls_list.append(img_tag['data-iurl'])\n",
    "            except KeyError:\n",
    "                try: \n",
    "                    urls_list.append(img_tag['src'])\n",
    "                except KeyError:\n",
    "                    pass\n",
    "                \n",
    "print(urls_list)"
   ]
  },
  {
   "cell_type": "code",
   "execution_count": 17,
   "id": "d85033b8",
   "metadata": {},
   "outputs": [
    {
     "name": "stdout",
     "output_type": "stream",
     "text": [
      "0 /images/branding/searchlogo/1x/googlelogo_desk_heirloom_color_150x55dp.gif\n",
      "1 https://encrypted-tbn0.gstatic.com/images?q=tbn:ANd9GcTcphgszxR6saYFj-4lYLrYPzWVwOfw6WNOJ7_7wIHO6dTylT-X8Z8IGv-Sog8&s\n",
      "2 https://encrypted-tbn0.gstatic.com/images?q=tbn:ANd9GcToSjh7ZNYssLfOwocI9z26wYRKvLiaJAcIa-gmST4VkNK7qbl9pQoUB1IF4w&s\n",
      "3 https://encrypted-tbn0.gstatic.com/images?q=tbn:ANd9GcTCzZXZKPyapDs3YPcBDX-nA3jI5i0wCiYtXfxD5290dAgofc2Hs5W6zgrtoMk&s\n",
      "4 https://encrypted-tbn0.gstatic.com/images?q=tbn:ANd9GcSPYh4Z1PVVmbTWo82DFnEhsTeEa6f0i9MmMdyeYyZs8zlmbnsKNc8eoTCZWw&s\n",
      "5 https://encrypted-tbn0.gstatic.com/images?q=tbn:ANd9GcQUbHRS4MgjBVUuScBgBpe9-e8l-aBQgr7LJat5NAHXSH2Vg8WLsMgk3RuYI3s&s\n",
      "6 https://encrypted-tbn0.gstatic.com/images?q=tbn:ANd9GcREia-jaIhrpubAyI7o3ijiS8AIHXRGCe3k0QkC-bw0n61gzO99RnwFBzIqQA&s\n",
      "7 https://encrypted-tbn0.gstatic.com/images?q=tbn:ANd9GcRTWZYi4dZ5WhUpn6_iCS5GoG8phOtQvxQQ1IrovXFRkf0uUD1rN2pc8U34iNM&s\n",
      "8 https://encrypted-tbn0.gstatic.com/images?q=tbn:ANd9GcRQ8bM02ULMxe5dtQTJfJnPWjo-qn_XIJebTpODYygNAUhSrJPezEwIC42dXg&s\n",
      "9 https://encrypted-tbn0.gstatic.com/images?q=tbn:ANd9GcTZou52MJ5Hr-WcgyJgpBwRXzc1ittvwnz9IQ3SHbIo9ZN37lX0eGAJ8pLZ21U&s\n",
      "10 https://encrypted-tbn0.gstatic.com/images?q=tbn:ANd9GcQj7HZmYG4j4dH1HCb2HCx2r2OXgOkdWalkN2lmJNCOnZAPqQvTRWshMfobcWk&s\n",
      "11 https://encrypted-tbn0.gstatic.com/images?q=tbn:ANd9GcQmg15Po_bVhzQCtoEdCbk75hkG0qtI0hrrZwbbHFiTogvAicDf0vQS9N2tbfA&s\n",
      "12 https://encrypted-tbn0.gstatic.com/images?q=tbn:ANd9GcTlJVqdnPvLZp2JC4lfQtxP-X-Y84pif0hAzrGa5ybAmtM6O4NwTWDvPDol5VA&s\n",
      "13 https://encrypted-tbn0.gstatic.com/images?q=tbn:ANd9GcQfiPrjNHQd5WaQp6NOwWSz097GYhx_cNPgCu_ymjbQxXn8QYevsYqqjdCip0w&s\n",
      "14 https://encrypted-tbn0.gstatic.com/images?q=tbn:ANd9GcSkP32jUV4s1JbjRe9F4jx1pmB8Wq0WHRttqKR-W3u0APqEUEdxCoCjANWrml0&s\n",
      "15 https://encrypted-tbn0.gstatic.com/images?q=tbn:ANd9GcSSx9hLfvcM-pni4PBrKfI5fJlE2RS3YG0Y8WsOItx0wdrNdmIrku4-CbWEP1I&s\n",
      "16 https://encrypted-tbn0.gstatic.com/images?q=tbn:ANd9GcQSHJpgHsT38bWVcuYWh9yqmiBB3vAEtaTPEYMwegp9ddYp8cen-vLU1o1POQc&s\n",
      "17 https://encrypted-tbn0.gstatic.com/images?q=tbn:ANd9GcT86siCoxtpk91h3obSSCppQWoFeIrGYAmmTr-OCP9acGcZ2acqCVADJmYAGXE&s\n",
      "18 https://encrypted-tbn0.gstatic.com/images?q=tbn:ANd9GcTF6t-rUXSb9DBh1_lLOhyRo2lQVU3pmXJZy3z67hg8zRNEkExWtz0xGjy2RQ&s\n",
      "19 https://encrypted-tbn0.gstatic.com/images?q=tbn:ANd9GcRgOA9ZVKC56xHp5xPucxUKJIf0aGmTIp08J1aaIC1HoXoTAqra_WtFFsW9mg&s\n",
      "20 https://encrypted-tbn0.gstatic.com/images?q=tbn:ANd9GcTTzWrvKu0-Hr1_vIaoKg7qdv-xdZvyhGG8zNozG0yombH64qZkgQnVP9utcw&s\n"
     ]
    }
   ],
   "source": [
    "# 이미지 저장 폴더 생성\n",
    "os.makedirs('./img01_data/', exist_ok=True)\n",
    "\n",
    "for i, url in enumerate(urls_list):\n",
    "    print(i,url)\n",
    "    try:\n",
    "        img_data = requests.get(url, headers=header).content\n",
    "        file_path = f\"./img01_data/apple_{i}.png\"\n",
    "        with open(file_path, \"wb\") as f:\n",
    "            f.write(img_data)\n",
    "            \n",
    "        # 크기가 0 이면 (깨지거나 이미지 오류) 삭제\n",
    "        if os.path.getsize(file_path) == 0:\n",
    "            os.remove(file_path)\n",
    "    except:\n",
    "        pass"
   ]
  },
  {
   "cell_type": "code",
   "execution_count": null,
   "id": "964f1bcb",
   "metadata": {},
   "outputs": [],
   "source": []
  }
 ],
 "metadata": {
  "kernelspec": {
   "display_name": "condatorch",
   "language": "python",
   "name": "condatorch"
  },
  "language_info": {
   "codemirror_mode": {
    "name": "ipython",
    "version": 3
   },
   "file_extension": ".py",
   "mimetype": "text/x-python",
   "name": "python",
   "nbconvert_exporter": "python",
   "pygments_lexer": "ipython3",
   "version": "3.8.16"
  }
 },
 "nbformat": 4,
 "nbformat_minor": 5
}
