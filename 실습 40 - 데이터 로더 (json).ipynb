{
 "cells": [
  {
   "cell_type": "code",
   "execution_count": 8,
   "id": "a95ce5c8",
   "metadata": {},
   "outputs": [],
   "source": [
    "import json\n",
    "import os\n",
    "from PIL import Image\n",
    "import torch\n",
    "from torch.utils.data import Dataset"
   ]
  },
  {
   "cell_type": "code",
   "execution_count": 10,
   "id": "8dd1c438",
   "metadata": {},
   "outputs": [],
   "source": [
    "class CustomDataset(Dataset):\n",
    "    def __init__(self, json_path, transforms=None):\n",
    "        self.transforms = transforms\n",
    "        with open(json_path, 'r', encoding='utf-8') as f:\n",
    "            self.data = json.load(f)\n",
    "            \n",
    "    def __getitem__(self,index):\n",
    "        #print(self.data)\n",
    "        img_path = self.data[index]['filename']\n",
    "        img_path = os.path.join('이미지 폴더', img_path)\n",
    "        # 이미지 불러오기\n",
    "        #img = Image.open(img_path)\n",
    "        \n",
    "        bbox = self.data[index]['ann']['bboxes']\n",
    "        label = self.data[index]['ann']['labels']\n",
    "        \n",
    "        # 전처리\n",
    "        #if transforms in not None:\n",
    "            #img = self.transforms(img)\n",
    "        return img_path, {'boxes':bbox, 'labels':label}\n",
    "    \n",
    "    def __len__(self):\n",
    "        return len(self.data)"
   ]
  },
  {
   "cell_type": "code",
   "execution_count": 11,
   "id": "354bca5b",
   "metadata": {},
   "outputs": [],
   "source": [
    "data = CustomDataset('./data/test.json',transforms=None)"
   ]
  },
  {
   "cell_type": "code",
   "execution_count": 16,
   "id": "1baf195e",
   "metadata": {},
   "outputs": [
    {
     "name": "stdout",
     "output_type": "stream",
     "text": [
      "이미지 폴더\\image_001.jpg {'boxes': [[10, 10, 50, 50], [100, 100, 200, 200]], 'labels': [0, 1]}\n",
      "이미지 폴더\\image_002.jpg {'boxes': [[20, 20, 60, 60], [300, 300, 400, 400]], 'labels': [1, 2]}\n",
      "이미지 폴더\\image_003.jpg {'boxes': [[30, 30, 60, 60], [300, 300, 400, 400]], 'labels': [1, 2]}\n",
      "이미지 폴더\\image_004.jpg {'boxes': [[10, 10, 60, 60], [300, 300, 400, 400]], 'labels': [1, 2]}\n"
     ]
    }
   ],
   "source": [
    "for image_paths,anno in data:\n",
    "    print(image_paths , anno)"
   ]
  },
  {
   "cell_type": "code",
   "execution_count": null,
   "id": "1f87a01d",
   "metadata": {},
   "outputs": [],
   "source": []
  }
 ],
 "metadata": {
  "kernelspec": {
   "display_name": "condatorch",
   "language": "python",
   "name": "condatorch"
  },
  "language_info": {
   "codemirror_mode": {
    "name": "ipython",
    "version": 3
   },
   "file_extension": ".py",
   "mimetype": "text/x-python",
   "name": "python",
   "nbconvert_exporter": "python",
   "pygments_lexer": "ipython3",
   "version": "3.8.16"
  }
 },
 "nbformat": 4,
 "nbformat_minor": 5
}
