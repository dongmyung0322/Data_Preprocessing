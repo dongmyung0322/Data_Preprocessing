{
 "cells": [
  {
   "cell_type": "code",
   "execution_count": 1,
   "id": "216645c0",
   "metadata": {},
   "outputs": [],
   "source": [
    "from sklearn.decomposition import KernelPCA\n",
    "from sklearn.datasets import make_circles"
   ]
  },
  {
   "cell_type": "code",
   "execution_count": 2,
   "id": "f5c4aed5",
   "metadata": {},
   "outputs": [
    {
     "name": "stdout",
     "output_type": "stream",
     "text": [
      "[[-0.02313275  0.15282194]\n",
      " [ 0.8626983   0.46556009]\n",
      " [ 0.05905661 -0.05048386]\n",
      " ...\n",
      " [-0.10071513 -0.1814104 ]\n",
      " [ 0.10461224  0.08710802]\n",
      " [ 0.28894733  0.97460534]]\n"
     ]
    }
   ],
   "source": [
    "# 비선형적 데이터 생성\n",
    "feature, _ = make_circles(n_samples=1000, random_state=777, noise=0.1, factor=0.1)\n",
    "print(feature)"
   ]
  },
  {
   "cell_type": "code",
   "execution_count": 5,
   "id": "4194c83c",
   "metadata": {},
   "outputs": [
    {
     "name": "stdout",
     "output_type": "stream",
     "text": [
      "Before: 2, After: 1\n"
     ]
    }
   ],
   "source": [
    "# 방사기저 함수를 통해 커널 PCA 사용\n",
    "kpca = KernelPCA(kernel='rbf', gamma=15, n_components=1)\n",
    "\n",
    "feature_kpca = kpca.fit_transform(feature)\n",
    "print('Before: {}, After: {}'.format(feature.shape[1], feature_kpca.shape[1]))"
   ]
  },
  {
   "cell_type": "code",
   "execution_count": null,
   "id": "575bf6bc",
   "metadata": {},
   "outputs": [],
   "source": []
  }
 ],
 "metadata": {
  "kernelspec": {
   "display_name": "condatorch",
   "language": "python",
   "name": "condatorch"
  },
  "language_info": {
   "codemirror_mode": {
    "name": "ipython",
    "version": 3
   },
   "file_extension": ".py",
   "mimetype": "text/x-python",
   "name": "python",
   "nbconvert_exporter": "python",
   "pygments_lexer": "ipython3",
   "version": "3.8.16"
  }
 },
 "nbformat": 4,
 "nbformat_minor": 5
}
