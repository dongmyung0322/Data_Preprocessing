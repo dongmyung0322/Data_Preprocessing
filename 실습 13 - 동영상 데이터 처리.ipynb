{
 "cells": [
  {
   "cell_type": "code",
   "execution_count": 1,
   "id": "682ca672",
   "metadata": {},
   "outputs": [],
   "source": [
    "import cv2"
   ]
  },
  {
   "cell_type": "code",
   "execution_count": 2,
   "id": "95d68305",
   "metadata": {},
   "outputs": [],
   "source": [
    "cap = cv2.VideoCapture('./data/video.mp4')"
   ]
  },
  {
   "cell_type": "code",
   "execution_count": 3,
   "id": "2d581d1e",
   "metadata": {},
   "outputs": [
    {
     "name": "stdout",
     "output_type": "stream",
     "text": [
      "비디오 크기:  1920.0 ,  1080.0\n",
      "fps: 29.97002997002997, frame count: 751.0\n"
     ]
    }
   ],
   "source": [
    "width = cap.get(cv2.CAP_PROP_FRAME_WIDTH)\n",
    "height = cap.get(cv2.CAP_PROP_FRAME_HEIGHT)\n",
    "fps = cap.get(cv2.CAP_PROP_FPS)\n",
    "frame_count = cap.get(cv2.CAP_PROP_FRAME_COUNT)\n",
    "\n",
    "print('비디오 크기: ', width,', ',height)\n",
    "print('fps: {}, frame count: {}'.format(fps, frame_count))"
   ]
  },
  {
   "cell_type": "code",
   "execution_count": null,
   "id": "a2b79c83",
   "metadata": {},
   "outputs": [],
   "source": [
    "if cap.isOpened():\n",
    "    while True:\n",
    "        ret, frame = cap.read()  # 다음 프레임 읽기\n",
    "        if ret:                 # 프레임 읽기 정상\n",
    "            frame = cv2.resize(frame, (640,480))\n",
    "\n",
    "            cv2.imshow('Video', frame)\n",
    "\n",
    "            # q누르면 종료\n",
    "            if cv2.waitKey(25) & 0xff == ord('q'):\n",
    "                exit()\n",
    "        \n",
    "        else:\n",
    "            break\n",
    "else:\n",
    "    print(\"Can't open video\")\n",
    "\n",
    "cap.release()\n",
    "cv2.destroyAllWindows()"
   ]
  },
  {
   "cell_type": "code",
   "execution_count": null,
   "id": "f44a16f4",
   "metadata": {},
   "outputs": [],
   "source": []
  }
 ],
 "metadata": {
  "kernelspec": {
   "display_name": "condatorch",
   "language": "python",
   "name": "condatorch"
  },
  "language_info": {
   "codemirror_mode": {
    "name": "ipython",
    "version": 3
   },
   "file_extension": ".py",
   "mimetype": "text/x-python",
   "name": "python",
   "nbconvert_exporter": "python",
   "pygments_lexer": "ipython3",
   "version": "3.8.16"
  }
 },
 "nbformat": 4,
 "nbformat_minor": 5
}
