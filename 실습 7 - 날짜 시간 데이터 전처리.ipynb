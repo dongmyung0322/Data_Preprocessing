{
 "cells": [
  {
   "cell_type": "code",
   "execution_count": 1,
   "id": "158a9a73",
   "metadata": {},
   "outputs": [],
   "source": [
    "import numpy as np\n",
    "import pandas as pd\n",
    "import pytz\n",
    "from pytz import all_timezones"
   ]
  },
  {
   "cell_type": "markdown",
   "id": "278e7c00",
   "metadata": {},
   "source": [
    "# 문자열을 날짜로 변환"
   ]
  },
  {
   "cell_type": "code",
   "execution_count": 2,
   "id": "dee6484f",
   "metadata": {},
   "outputs": [],
   "source": [
    "date_string = np.array(['03-04-2023 11:35 PM', '05-04-2023 11:00 PM', '07-04-2023 02:00 AM'])"
   ]
  },
  {
   "cell_type": "code",
   "execution_count": 3,
   "id": "83d2c043",
   "metadata": {},
   "outputs": [
    {
     "name": "stdout",
     "output_type": "stream",
     "text": [
      "2023-04-03 23:35:00\n",
      "2023-04-05 23:00:00\n",
      "2023-04-07 02:00:00\n"
     ]
    }
   ],
   "source": [
    "for date in date_string:\n",
    "    temp = pd.to_datetime(date, format='%d-%m-%Y %I:%M %p')\n",
    "    print(temp)\n",
    "\n",
    "for date in date_string:\n",
    "    temp_val = pd.to_datetime(date, format='%d-%m-%Y %I:%M %p', errors='ignore')"
   ]
  },
  {
   "cell_type": "markdown",
   "id": "8fb35562",
   "metadata": {},
   "source": [
    "# 시간대 데이터 처리"
   ]
  },
  {
   "cell_type": "code",
   "execution_count": 4,
   "id": "8f8a8e9e",
   "metadata": {},
   "outputs": [
    {
     "name": "stdout",
     "output_type": "stream",
     "text": [
      "2023-04-20 07:00:00\n"
     ]
    }
   ],
   "source": [
    "pd.Timestamp('2023-01-01 06:00:00', tz='Europe/London')\n",
    "date = pd.Timestamp('2023-04-20 07:00:00')\n",
    "print(date)"
   ]
  },
  {
   "cell_type": "code",
   "execution_count": 5,
   "id": "85a9ffa6",
   "metadata": {},
   "outputs": [
    {
     "name": "stdout",
     "output_type": "stream",
     "text": [
      "2023-04-20 07:00:00+01:00\n"
     ]
    }
   ],
   "source": [
    "date_in_london = date.tz_localize('Europe/London')\n",
    "print(date_in_london)"
   ]
  },
  {
   "cell_type": "code",
   "execution_count": 6,
   "id": "d669574a",
   "metadata": {},
   "outputs": [
    {
     "name": "stdout",
     "output_type": "stream",
     "text": [
      "2023-04-20 06:00:00+00:00\n"
     ]
    }
   ],
   "source": [
    "date_in_africa = date_in_london.tz_convert('Africa/Abidjan')\n",
    "print(date_in_africa)"
   ]
  },
  {
   "cell_type": "code",
   "execution_count": 7,
   "id": "4369c1ef",
   "metadata": {},
   "outputs": [
    {
     "name": "stdout",
     "output_type": "stream",
     "text": [
      "0   2023-02-28 00:00:00+00:00\n",
      "1   2023-03-31 00:00:00+00:00\n",
      "2   2023-04-30 00:00:00+00:00\n",
      "dtype: datetime64[ns, Africa/Abidjan]\n"
     ]
    }
   ],
   "source": [
    "dates = pd.Series(pd.date_range('2/2/2023', periods=3, freq='M'))\n",
    "temp = dates.dt.tz_localize('Africa/Abidjan')\n",
    "print(temp)"
   ]
  },
  {
   "cell_type": "code",
   "execution_count": 8,
   "id": "a5940ce4",
   "metadata": {},
   "outputs": [
    {
     "data": {
      "text/plain": [
       "['Africa/Abidjan',\n",
       " 'Africa/Accra',\n",
       " 'Africa/Addis_Ababa',\n",
       " 'Africa/Algiers',\n",
       " 'Africa/Asmara',\n",
       " 'Africa/Asmera',\n",
       " 'Africa/Bamako',\n",
       " 'Africa/Bangui',\n",
       " 'Africa/Banjul',\n",
       " 'Africa/Bissau']"
      ]
     },
     "execution_count": 8,
     "metadata": {},
     "output_type": "execute_result"
    }
   ],
   "source": [
    "all_timezones[0:10]"
   ]
  },
  {
   "cell_type": "code",
   "execution_count": 9,
   "id": "760ca327",
   "metadata": {},
   "outputs": [
    {
     "data": {
      "text/plain": [
       "0   2023-02-28 00:00:00+09:00\n",
       "1   2023-03-31 00:00:00+09:00\n",
       "2   2023-04-30 00:00:00+09:00\n",
       "dtype: datetime64[ns, tzfile('ROK')]"
      ]
     },
     "execution_count": 9,
     "metadata": {},
     "output_type": "execute_result"
    }
   ],
   "source": [
    "dates.dt.tz_localize('dateutil/Asia/Seoul')"
   ]
  },
  {
   "cell_type": "code",
   "execution_count": 10,
   "id": "54c992d0",
   "metadata": {},
   "outputs": [
    {
     "name": "stdout",
     "output_type": "stream",
     "text": [
      "0   2023-02-28 00:00:00+09:00\n",
      "1   2023-03-31 00:00:00+09:00\n",
      "2   2023-04-30 00:00:00+09:00\n",
      "dtype: datetime64[ns, Asia/Seoul]\n"
     ]
    }
   ],
   "source": [
    "tz = pytz.timezone('Asia/Seoul')\n",
    "temp01 = dates.dt.tz_localize(tz)\n",
    "print(temp01)"
   ]
  },
  {
   "cell_type": "markdown",
   "id": "2fe4d885",
   "metadata": {},
   "source": [
    "# 날짜와 시간 선택하기"
   ]
  },
  {
   "cell_type": "code",
   "execution_count": 11,
   "id": "24c4bcbb",
   "metadata": {},
   "outputs": [
    {
     "name": "stdout",
     "output_type": "stream",
     "text": [
      "                   date\n",
      "0   2023-01-01 00:00:00\n",
      "1   2023-01-01 01:00:00\n",
      "2   2023-01-01 02:00:00\n",
      "3   2023-01-01 03:00:00\n",
      "4   2023-01-01 04:00:00\n",
      "..                  ...\n",
      "995 2023-02-11 11:00:00\n",
      "996 2023-02-11 12:00:00\n",
      "997 2023-02-11 13:00:00\n",
      "998 2023-02-11 14:00:00\n",
      "999 2023-02-11 15:00:00\n",
      "\n",
      "[1000 rows x 1 columns]\n"
     ]
    }
   ],
   "source": [
    "dateframe = pd.DataFrame()\n",
    "dateframe['date'] = pd.date_range('01/01/2023', periods=1000, freq='H')\n",
    "print(dateframe)"
   ]
  },
  {
   "cell_type": "code",
   "execution_count": 12,
   "id": "277bbcda",
   "metadata": {},
   "outputs": [
    {
     "data": {
      "text/html": [
       "<div>\n",
       "<style scoped>\n",
       "    .dataframe tbody tr th:only-of-type {\n",
       "        vertical-align: middle;\n",
       "    }\n",
       "\n",
       "    .dataframe tbody tr th {\n",
       "        vertical-align: top;\n",
       "    }\n",
       "\n",
       "    .dataframe thead th {\n",
       "        text-align: right;\n",
       "    }\n",
       "</style>\n",
       "<table border=\"1\" class=\"dataframe\">\n",
       "  <thead>\n",
       "    <tr style=\"text-align: right;\">\n",
       "      <th></th>\n",
       "      <th>date</th>\n",
       "    </tr>\n",
       "  </thead>\n",
       "  <tbody>\n",
       "    <tr>\n",
       "      <th>2</th>\n",
       "      <td>2023-01-01 02:00:00</td>\n",
       "    </tr>\n",
       "    <tr>\n",
       "      <th>3</th>\n",
       "      <td>2023-01-01 03:00:00</td>\n",
       "    </tr>\n",
       "    <tr>\n",
       "      <th>4</th>\n",
       "      <td>2023-01-01 04:00:00</td>\n",
       "    </tr>\n",
       "  </tbody>\n",
       "</table>\n",
       "</div>"
      ],
      "text/plain": [
       "                 date\n",
       "2 2023-01-01 02:00:00\n",
       "3 2023-01-01 03:00:00\n",
       "4 2023-01-01 04:00:00"
      ]
     },
     "execution_count": 12,
     "metadata": {},
     "output_type": "execute_result"
    }
   ],
   "source": [
    "dateframe[(dateframe['date'] > '2023-01-01 01:00:00') & (dateframe['date'] <= '2023-01-01 04:00:00')]"
   ]
  },
  {
   "cell_type": "code",
   "execution_count": 13,
   "id": "43117f84",
   "metadata": {},
   "outputs": [
    {
     "name": "stdout",
     "output_type": "stream",
     "text": [
      "                                   date\n",
      "date                                   \n",
      "2023-01-01 01:00:00 2023-01-01 01:00:00\n",
      "2023-01-01 02:00:00 2023-01-01 02:00:00\n",
      "2023-01-01 03:00:00 2023-01-01 03:00:00\n",
      "2023-01-01 04:00:00 2023-01-01 04:00:00\n"
     ]
    }
   ],
   "source": [
    "dateframe = dateframe.set_index(dateframe['date'])\n",
    "temp = dateframe.loc['2023-01-01 01:00:00' :'2023-01-01 04:00:00' ]\n",
    "print(temp)"
   ]
  },
  {
   "cell_type": "markdown",
   "id": "fa0e2353",
   "metadata": {},
   "source": [
    "# 날짜 데이터를 여러 특성으로 분할"
   ]
  },
  {
   "cell_type": "code",
   "execution_count": 17,
   "id": "58fb91f2",
   "metadata": {},
   "outputs": [
    {
     "name": "stdout",
     "output_type": "stream",
     "text": [
      "        date\n",
      "0 2023-01-01\n",
      "1 2023-01-08\n",
      "2 2023-01-15\n",
      "3 2023-01-22\n",
      "4 2023-01-29\n",
      "        date  year  month  day  hour  minute\n",
      "0 2023-01-01  2023      1    1     0       0\n",
      "1 2023-01-08  2023      1    8     0       0\n",
      "2 2023-01-15  2023      1   15     0       0\n",
      "3 2023-01-22  2023      1   22     0       0\n",
      "4 2023-01-29  2023      1   29     0       0\n"
     ]
    }
   ],
   "source": [
    "dataframe = pd.DataFrame()\n",
    "\n",
    "dataframe['date'] = pd.date_range('1/1/2023', periods=5,freq='W')\n",
    "print(dataframe)\n",
    "\n",
    "dataframe['year'] = dataframe['date'].dt.year\n",
    "dataframe['month'] = dataframe['date'].dt.month\n",
    "dataframe['day'] = dataframe['date'].dt.day\n",
    "dataframe['hour'] = dataframe['date'].dt.hour\n",
    "dataframe['minute'] = dataframe['date'].dt.minute\n",
    "\n",
    "print(dataframe)"
   ]
  },
  {
   "cell_type": "markdown",
   "id": "c316e341",
   "metadata": {},
   "source": [
    "# 날짜간의 차이 계산"
   ]
  },
  {
   "cell_type": "code",
   "execution_count": 20,
   "id": "5d5113f4",
   "metadata": {},
   "outputs": [
    {
     "name": "stdout",
     "output_type": "stream",
     "text": [
      "     Arrived       Left\n",
      "0 2023-01-01 2023-01-01\n",
      "1 2023-01-04 2023-01-06\n"
     ]
    }
   ],
   "source": [
    "df = pd.DataFrame()\n",
    "df['Arrived'] = [pd.Timestamp('01-01-2023'), pd.Timestamp('01-04-2023')]\n",
    "df['Left'] = [pd.Timestamp('01-01-2023'), pd.Timestamp('01-06-2023')]\n",
    "print(df)"
   ]
  },
  {
   "cell_type": "code",
   "execution_count": 22,
   "id": "0bcc165c",
   "metadata": {},
   "outputs": [
    {
     "name": "stdout",
     "output_type": "stream",
     "text": [
      "0    0 days\n",
      "1   -2 days\n",
      "dtype: timedelta64[ns]\n"
     ]
    }
   ],
   "source": [
    "result = df['Arrived'] - df['Left']\n",
    "print(result)"
   ]
  },
  {
   "cell_type": "code",
   "execution_count": 23,
   "id": "8aab74c6",
   "metadata": {},
   "outputs": [
    {
     "data": {
      "text/plain": [
       "0    0\n",
       "1   -2\n",
       "dtype: int64"
      ]
     },
     "execution_count": 23,
     "metadata": {},
     "output_type": "execute_result"
    }
   ],
   "source": [
    "# 특성 간의 기간을 계산\n",
    "pd.Series(delta.days for delta in (result))"
   ]
  },
  {
   "cell_type": "markdown",
   "id": "9104f1c3",
   "metadata": {},
   "source": [
    "# 시차특성"
   ]
  },
  {
   "cell_type": "code",
   "execution_count": 25,
   "id": "b31fc042",
   "metadata": {},
   "outputs": [
    {
     "name": "stdout",
     "output_type": "stream",
     "text": [
      "       dates  stock_price  previous_day_stock_price\n",
      "0 2023-01-01          1.1                       NaN\n",
      "1 2023-01-02          2.2                       1.1\n",
      "2 2023-01-03          3.3                       2.2\n",
      "3 2023-01-04          4.4                       3.3\n",
      "4 2023-01-05          5.5                       4.4\n"
     ]
    }
   ],
   "source": [
    "df = pd.DataFrame()\n",
    "df['dates'] = pd.date_range('1/1/2023', periods=5, freq='D')\n",
    "df['stock_price'] = [1.1, 2.2, 3.3, 4.4, 5.5]\n",
    "\n",
    "df['previous_day_stock_price'] = df['stock_price'].shift(1)\n",
    "print(df)"
   ]
  },
  {
   "cell_type": "markdown",
   "id": "e8a4cca1",
   "metadata": {},
   "source": [
    "# 이동 시간 윈도 사용"
   ]
  },
  {
   "cell_type": "code",
   "execution_count": 31,
   "id": "4055e40b",
   "metadata": {},
   "outputs": [
    {
     "name": "stdout",
     "output_type": "stream",
     "text": [
      "            stockPrice\n",
      "2023-01-31           1\n",
      "2023-02-28           2\n",
      "2023-03-31           3\n",
      "2023-04-30           4\n",
      "2023-05-31           5\n",
      "            stockPrice\n",
      "2023-01-31         NaN\n",
      "2023-02-28         1.5\n",
      "2023-03-31         2.5\n",
      "2023-04-30         3.5\n",
      "2023-05-31         4.5             stockPrice\n",
      "2023-01-31    1.000000\n",
      "2023-02-28    1.666667\n",
      "2023-03-31    2.428571\n",
      "2023-04-30    3.266667\n",
      "2023-05-31    4.161290\n"
     ]
    }
   ],
   "source": [
    "time_index = pd.date_range('1/1/2023', periods=5, freq='M')\n",
    "df = pd.DataFrame(index=time_index)\n",
    "df['stockPrice'] = [1,2,3,4,5]\n",
    "print(df)\n",
    "\n",
    "rolling = df.rolling(window=2).mean()\n",
    "ewm = df.ewm(alpha=0.5).mean()\n",
    "print(rolling,ewm)"
   ]
  },
  {
   "cell_type": "markdown",
   "id": "35136fb5",
   "metadata": {},
   "source": [
    "# 시계열 누락된 값 처리"
   ]
  },
  {
   "cell_type": "code",
   "execution_count": 37,
   "id": "d2537d83",
   "metadata": {},
   "outputs": [
    {
     "name": "stdout",
     "output_type": "stream",
     "text": [
      "            Sales\n",
      "2023-01-31    1.0\n",
      "2023-02-28    2.0\n",
      "2023-03-31    NaN\n",
      "2023-04-30    NaN\n",
      "2023-05-31    8.0\n"
     ]
    }
   ],
   "source": [
    "time_index = pd.date_range('1/1/2023', periods=5, freq='M')\n",
    "df = pd.DataFrame(index=time_index)\n",
    "df['Sales'] = [1.0, 2.0, np.nan, np.nan, 8.0]\n",
    "print(df)"
   ]
  },
  {
   "cell_type": "code",
   "execution_count": 39,
   "id": "5203a89e",
   "metadata": {},
   "outputs": [
    {
     "name": "stdout",
     "output_type": "stream",
     "text": [
      "            Sales\n",
      "2023-01-31    1.0\n",
      "2023-02-28    2.0\n",
      "2023-03-31    4.0\n",
      "2023-04-30    NaN\n",
      "2023-05-31    8.0\n",
      "            Sales\n",
      "2023-01-31    1.0\n",
      "2023-02-28    2.0\n",
      "2023-03-31    4.0\n",
      "2023-04-30    6.0\n",
      "2023-05-31    8.0\n"
     ]
    }
   ],
   "source": [
    "df.interpolate()   # 누락된 값 보간\n",
    "df.ffill()   # 앞쪽으로 채우기\n",
    "df.bfill()   # 뒤쪽으로 채우기\n",
    "df.interpolate(method = 'quadratic')  # 비선형의 보간방법\n",
    "\n",
    "print(df.interpolate(limit=1, limit_direction='forward'))\n",
    "print(df.interpolate(limit=2, limit_direction='backward'))"
   ]
  },
  {
   "cell_type": "code",
   "execution_count": null,
   "id": "539054a2",
   "metadata": {},
   "outputs": [],
   "source": []
  }
 ],
 "metadata": {
  "kernelspec": {
   "display_name": "condatorch",
   "language": "python",
   "name": "condatorch"
  },
  "language_info": {
   "codemirror_mode": {
    "name": "ipython",
    "version": 3
   },
   "file_extension": ".py",
   "mimetype": "text/x-python",
   "name": "python",
   "nbconvert_exporter": "python",
   "pygments_lexer": "ipython3",
   "version": "3.8.16"
  }
 },
 "nbformat": 4,
 "nbformat_minor": 5
}
