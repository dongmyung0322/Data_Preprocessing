{
 "cells": [
  {
   "cell_type": "code",
   "execution_count": 1,
   "id": "e640c369",
   "metadata": {},
   "outputs": [],
   "source": [
    "import cv2\n",
    "import os\n",
    "import glob\n",
    "from tqdm import tqdm\n",
    "import json"
   ]
  },
  {
   "cell_type": "code",
   "execution_count": 5,
   "id": "7bfdca2f",
   "metadata": {},
   "outputs": [
    {
     "name": "stderr",
     "output_type": "stream",
     "text": [
      "100%|██████████████████████████████████████████████████████████████████████████████████| 11/11 [00:44<00:00,  4.01s/it]\n"
     ]
    }
   ],
   "source": [
    "json_paths = glob.glob(os.path.join(f'./raw_data_video/json/Stealing_Courier','*.json'))\n",
    "video_paths = glob.glob(os.path.join(f'./raw_data_video/video/Stealing_Courier','*.mp4'))\n",
    "\n",
    "for json_path in tqdm(json_paths):\n",
    "    \n",
    "    with open(json_path, 'r', encoding='utf-8') as f:\n",
    "        json_data = json.load(f)\n",
    "        \n",
    "    categories_info = json_data['categories']\n",
    "    #print(categories_info)\n",
    "    metadata_info = json_data['metadata']\n",
    "    file_name = metadata_info['filename']\n",
    "    file_info = json_data['file']\n",
    "\n",
    "    video_path = f'./raw_data_video/video/Stealing_Courier/{file_name}'\n",
    "            \n",
    "    cap = cv2.VideoCapture(video_path)\n",
    "            \n",
    "    for i in file_info:\n",
    "        videos_info = i['videos']\n",
    "        block_info = videos_info['block_information']\n",
    "            \n",
    "        count = 0\n",
    "        for j in block_info:\n",
    "            if j['block_detail'] == 'A30':\n",
    "                \n",
    "                video_name = video_path.split('/')[-1]\n",
    "                video_name_without = video_name.replace('.mp4', '')\n",
    "                os.makedirs(f'./AI_hub_assignment/Stealing_Courier/{video_name_without}/', exist_ok=True)\n",
    "                \n",
    "                start_time = j['start_time']\n",
    "                end_time = j['end_time']\n",
    "                start_frame_index = j['start_frame_index']\n",
    "                end_frame_index = j['end_frame_index']\n",
    "                        \n",
    "                for frame_idx in range(int(start_frame_index), int(end_frame_index), 30):\n",
    "                            \n",
    "                    cap.set(cv2.CAP_PROP_POS_FRAMES, frame_idx) # 영상의 frame_idx로 이동  \n",
    "                    ret, frame = cap.read()\n",
    "                    if ret:\n",
    "                        img_name = f'./AI_hub_assignment/Stealing_Courier/{video_name_without}/{video_name_without}_frame_{str(count).zfill(4)}.png'\n",
    "                        cv2.imwrite(img_name, frame)\n",
    "                        count +=1\n",
    "                        #print(img_name)\n",
    "\n",
    "                                \n",
    "    cap.release()"
   ]
  },
  {
   "cell_type": "code",
   "execution_count": null,
   "id": "d56da413",
   "metadata": {},
   "outputs": [],
   "source": []
  }
 ],
 "metadata": {
  "kernelspec": {
   "display_name": "condatorch",
   "language": "python",
   "name": "condatorch"
  },
  "language_info": {
   "codemirror_mode": {
    "name": "ipython",
    "version": 3
   },
   "file_extension": ".py",
   "mimetype": "text/x-python",
   "name": "python",
   "nbconvert_exporter": "python",
   "pygments_lexer": "ipython3",
   "version": "3.8.16"
  }
 },
 "nbformat": 4,
 "nbformat_minor": 5
}
