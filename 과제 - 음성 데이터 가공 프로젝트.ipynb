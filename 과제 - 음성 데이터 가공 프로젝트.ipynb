{
 "cells": [
  {
   "cell_type": "code",
   "execution_count": 1,
   "id": "9626934c",
   "metadata": {},
   "outputs": [],
   "source": [
    "import matplotlib.pyplot as plt\n",
    "import librosa\n",
    "import librosa.display\n",
    "import os\n",
    "import glob\n",
    "import numpy as np\n",
    "import IPython as ipd\n",
    "import random"
   ]
  },
  {
   "cell_type": "code",
   "execution_count": 2,
   "id": "8d39b6ea",
   "metadata": {},
   "outputs": [],
   "source": [
    "def visualize_waveshow(data, sr, folder_name, file_name):\n",
    "    start = 0\n",
    "    end = 10\n",
    "    start_sample = sr * start\n",
    "    end_sample = sr * end\n",
    "    data_selected = data[start_sample:end_sample]\n",
    "    \n",
    "    noise = 0.05*np.random.randn(*data_selected.shape)\n",
    "    data_noised = data_selected+noise\n",
    "    \n",
    "    data_stretched = librosa.effects.time_stretch(data_selected, rate=0.8)\n",
    "    \n",
    "    plt.figure(figsize=(12,4))\n",
    "    librosa.display.waveshow(data_noised, color='purple')\n",
    "    plt.axis('off')\n",
    "    dir_path = f'./image_extraction_data/waveshow/{folder_name}'\n",
    "    os.makedirs(dir_path, exist_ok=True)\n",
    "    plt.savefig(f'./image_extraction_data/waveshow/{folder_name}/{file_name}_noised.png', bbox_inches='tight', pad_inches=0)\n",
    "    plt.close()\n",
    "    \n",
    "    plt.figure(figsize=(12,4))\n",
    "    librosa.display.waveshow(data_stretched, color='purple')\n",
    "    plt.axis('off')\n",
    "    dir_path = f'./image_extraction_data/waveshow/{folder_name}'\n",
    "    os.makedirs(dir_path, exist_ok=True)\n",
    "    plt.savefig(f'./image_extraction_data/waveshow/{folder_name}/{file_name}_stretched.png', bbox_inches='tight', pad_inches=0)\n",
    "    plt.close()\n",
    "    \n",
    "    plt.figure(figsize=(12,4))\n",
    "    librosa.display.waveshow(data_selected, color='purple')\n",
    "    plt.axis('off')\n",
    "    dir_path = f'./image_extraction_data/waveshow/{folder_name}'\n",
    "    os.makedirs(dir_path, exist_ok=True)\n",
    "    plt.savefig(f'./image_extraction_data/waveshow/{folder_name}/{file_name}.png', bbox_inches='tight', pad_inches=0)\n",
    "    plt.close()\n",
    "    "
   ]
  },
  {
   "cell_type": "code",
   "execution_count": 3,
   "id": "17ae057f",
   "metadata": {},
   "outputs": [],
   "source": [
    "def visualize_stft(data, sr, folder_name, file_name):\n",
    "    start = 0\n",
    "    end = 10\n",
    "    start_sample = sr * start\n",
    "    end_sample = sr * end\n",
    "    data_selected = data[start_sample:end_sample]\n",
    "    \n",
    "    stft = librosa.stft(data_selected)\n",
    "    stft_db = librosa.amplitude_to_db(abs(stft))\n",
    "    \n",
    "    noise = 0.005*np.random.randn(*data_selected.shape)\n",
    "    data_noised = data_selected+noise\n",
    "    stft_noised = librosa.stft(data_noised)\n",
    "    stft_db_noised = librosa.amplitude_to_db(abs(stft_noised))\n",
    "    \n",
    "    rate = 0.8 + np.random.random() * 0.4  # 0.8~1.2 사이의 랜덤한 값\n",
    "    data_stretched = librosa.effects.time_stretch(data_selected, rate=rate)\n",
    "    stft_stretched = librosa.stft(data_stretched)\n",
    "    stft_db_streched = librosa.amplitude_to_db(abs(stft_stretched))\n",
    "    \n",
    "    plt.figure(figsize=(12,4))\n",
    "    librosa.display.specshow(stft_db, sr=sr)\n",
    "    plt.axis('off')\n",
    "    dir_path = f'./image_extraction_data/STFT/{folder_name}'\n",
    "    os.makedirs(dir_path, exist_ok=True)\n",
    "    plt.savefig(f'./image_extraction_data/STFT/{folder_name}/{file_name}.png', bbox_inches='tight', pad_inches=0)\n",
    "    plt.close()    \n",
    "    \n",
    "    plt.figure(figsize=(12,4))\n",
    "    librosa.display.specshow(stft_db_noised, sr=sr)\n",
    "    plt.axis('off')\n",
    "    dir_path = f'./image_extraction_data/STFT/{folder_name}'\n",
    "    os.makedirs(dir_path, exist_ok=True)\n",
    "    plt.savefig(f'./image_extraction_data/STFT/{folder_name}/{file_name}_noised.png', bbox_inches='tight', pad_inches=0)\n",
    "    plt.close()\n",
    "    \n",
    "    plt.figure(figsize=(12,4))\n",
    "    librosa.display.specshow(stft_db_streched, sr=sr)\n",
    "    plt.axis('off')\n",
    "    dir_path = f'./image_extraction_data/STFT/{folder_name}'\n",
    "    os.makedirs(dir_path, exist_ok=True)\n",
    "    plt.savefig(f'./image_extraction_data/STFT/{folder_name}/{file_name}_stretched.png', bbox_inches='tight', pad_inches=0)\n",
    "    plt.close()"
   ]
  },
  {
   "cell_type": "code",
   "execution_count": 4,
   "id": "66327c03",
   "metadata": {},
   "outputs": [],
   "source": [
    "def visualize_mel_spec(data, sr, folder_name, file_name):\n",
    "    start = 0\n",
    "    end = 10\n",
    "    start_sample = sr * start\n",
    "    end_sample = sr * end\n",
    "    data_selected = data[start_sample:end_sample]\n",
    "\n",
    "    # original\n",
    "    stft = librosa.stft(data_selected)\n",
    "\n",
    "    mel_spec = librosa.feature.melspectrogram(S=abs(stft))\n",
    "\n",
    "    mel_spec_db = librosa.amplitude_to_db(mel_spec, ref=np.max)\n",
    "\n",
    "    # stretched\n",
    "    rate = 0.8 + np.random.random() * 0.4  # 0.8~1.2 사이의 랜덤한 값\n",
    "    data_stretched = librosa.effects.time_stretch(data_selected, rate=rate)\n",
    "    \n",
    "    stft_stretched = librosa.stft(data_stretched)\n",
    "    \n",
    "    mel_spec_stretched = librosa.feature.melspectrogram(S=abs(stft_stretched))\n",
    "    mel_spec_db_stretched = librosa.amplitude_to_db(mel_spec_stretched, ref=np.max)\n",
    "    \n",
    "    #noised\n",
    "    noise = 0.005*np.random.randn(*mel_spec_db.shape)\n",
    "    mel_spec_db_noised = noise + mel_spec_db\n",
    "    \n",
    "    mel_spec_db_noised_db = librosa.amplitude_to_db(mel_spec_db_noised, ref=np.max)\n",
    "    \n",
    "    plt.figure(figsize=(12,4))\n",
    "    librosa.display.specshow(mel_spec_db, sr=sr)\n",
    "    plt.axis('off')\n",
    "    dir_path = f'./image_extraction_data/MelSpectrogram/{folder_name}'\n",
    "    os.makedirs(dir_path, exist_ok=True)\n",
    "    plt.savefig(f'./image_extraction_data/MelSpectrogram/{folder_name}/{file_name}.png', bbox_inches='tight', pad_inches=0)\n",
    "    plt.close()\n",
    "    \n",
    "    plt.figure(figsize=(12,4))\n",
    "    librosa.display.specshow(mel_spec_db_stretched, sr=sr)\n",
    "    plt.axis('off')\n",
    "    dir_path = f'./image_extraction_data/MelSpectrogram/{folder_name}'\n",
    "    os.makedirs(dir_path, exist_ok=True)\n",
    "    plt.savefig(f'./image_extraction_data/MelSpectrogram/{folder_name}/{file_name}_stretched.png', bbox_inches='tight', pad_inches=0)\n",
    "    plt.close()\n",
    "    \n",
    "    plt.figure(figsize=(12,4))\n",
    "    librosa.display.specshow(mel_spec_db_noised_db, sr=sr)\n",
    "    plt.axis('off')\n",
    "    dir_path = f'./image_extraction_data/MelSpectrogram/{folder_name}'\n",
    "    os.makedirs(dir_path, exist_ok=True)\n",
    "    plt.savefig(f'./image_extraction_data/MelSpectrogram/{folder_name}/{file_name}_noised.png', bbox_inches='tight', pad_inches=0)\n",
    "    plt.close()"
   ]
  },
  {
   "cell_type": "code",
   "execution_count": 5,
   "id": "25e50e66",
   "metadata": {},
   "outputs": [
    {
     "name": "stdout",
     "output_type": "stream",
     "text": [
      "raw_data\\raw_data\\metal\\metal.00000.wav metal metal.00000.wav\n",
      "[-0.12237549 -0.04919434  0.04440308 ... -0.17837524 -0.08401489\n",
      " -0.0284729 ] 22050\n",
      "raw_data\\raw_data\\metal\\metal.00001.wav metal metal.00001.wav\n",
      "[0.1164856  0.1194458  0.12341309 ... 0.01867676 0.06533813 0.034729  ] 22050\n"
     ]
    },
    {
     "ename": "KeyboardInterrupt",
     "evalue": "",
     "output_type": "error",
     "traceback": [
      "\u001b[1;31m---------------------------------------------------------------------------\u001b[0m",
      "\u001b[1;31mKeyboardInterrupt\u001b[0m                         Traceback (most recent call last)",
      "Cell \u001b[1;32mIn[5], line 17\u001b[0m\n\u001b[0;32m     13\u001b[0m     visualize_waveshow(data, sr, folder_name, file_name)\n\u001b[0;32m     15\u001b[0m     visualize_stft(data, sr, folder_name, file_name)\n\u001b[1;32m---> 17\u001b[0m     \u001b[43mvisualize_mel_spec\u001b[49m\u001b[43m(\u001b[49m\u001b[43mdata\u001b[49m\u001b[43m,\u001b[49m\u001b[43m \u001b[49m\u001b[43msr\u001b[49m\u001b[43m,\u001b[49m\u001b[43m \u001b[49m\u001b[43mfolder_name\u001b[49m\u001b[43m,\u001b[49m\u001b[43m \u001b[49m\u001b[43mfile_name\u001b[49m\u001b[43m)\u001b[49m\n\u001b[0;32m     19\u001b[0m \u001b[38;5;28;01mexcept\u001b[39;00m \u001b[38;5;167;01mException\u001b[39;00m \u001b[38;5;28;01mas\u001b[39;00m e:\n\u001b[0;32m     20\u001b[0m     \u001b[38;5;28mprint\u001b[39m(\u001b[38;5;124m'\u001b[39m\u001b[38;5;124mexception\u001b[39m\u001b[38;5;124m'\u001b[39m)\n",
      "Cell \u001b[1;32mIn[4], line 17\u001b[0m, in \u001b[0;36mvisualize_mel_spec\u001b[1;34m(data, sr, folder_name, file_name)\u001b[0m\n\u001b[0;32m     15\u001b[0m \u001b[38;5;66;03m# stretched\u001b[39;00m\n\u001b[0;32m     16\u001b[0m rate \u001b[38;5;241m=\u001b[39m \u001b[38;5;241m0.8\u001b[39m \u001b[38;5;241m+\u001b[39m np\u001b[38;5;241m.\u001b[39mrandom\u001b[38;5;241m.\u001b[39mrandom() \u001b[38;5;241m*\u001b[39m \u001b[38;5;241m0.4\u001b[39m  \u001b[38;5;66;03m# 0.8~1.2 사이의 랜덤한 값\u001b[39;00m\n\u001b[1;32m---> 17\u001b[0m data_stretched \u001b[38;5;241m=\u001b[39m \u001b[43mlibrosa\u001b[49m\u001b[38;5;241;43m.\u001b[39;49m\u001b[43meffects\u001b[49m\u001b[38;5;241;43m.\u001b[39;49m\u001b[43mtime_stretch\u001b[49m\u001b[43m(\u001b[49m\u001b[43mdata_selected\u001b[49m\u001b[43m,\u001b[49m\u001b[43m \u001b[49m\u001b[43mrate\u001b[49m\u001b[38;5;241;43m=\u001b[39;49m\u001b[43mrate\u001b[49m\u001b[43m)\u001b[49m\n\u001b[0;32m     19\u001b[0m stft_stretched \u001b[38;5;241m=\u001b[39m librosa\u001b[38;5;241m.\u001b[39mstft(data_stretched)\n\u001b[0;32m     21\u001b[0m mel_spec_stretched \u001b[38;5;241m=\u001b[39m librosa\u001b[38;5;241m.\u001b[39mfeature\u001b[38;5;241m.\u001b[39mmelspectrogram(S\u001b[38;5;241m=\u001b[39m\u001b[38;5;28mabs\u001b[39m(stft_stretched))\n",
      "File \u001b[1;32mC:\\anaconda3\\envs\\condatorch\\lib\\site-packages\\librosa\\effects.py:245\u001b[0m, in \u001b[0;36mtime_stretch\u001b[1;34m(y, rate, **kwargs)\u001b[0m\n\u001b[0;32m    242\u001b[0m stft \u001b[38;5;241m=\u001b[39m core\u001b[38;5;241m.\u001b[39mstft(y, \u001b[38;5;241m*\u001b[39m\u001b[38;5;241m*\u001b[39mkwargs)\n\u001b[0;32m    244\u001b[0m \u001b[38;5;66;03m# Stretch by phase vocoding\u001b[39;00m\n\u001b[1;32m--> 245\u001b[0m stft_stretch \u001b[38;5;241m=\u001b[39m \u001b[43mcore\u001b[49m\u001b[38;5;241;43m.\u001b[39;49m\u001b[43mphase_vocoder\u001b[49m\u001b[43m(\u001b[49m\n\u001b[0;32m    246\u001b[0m \u001b[43m    \u001b[49m\u001b[43mstft\u001b[49m\u001b[43m,\u001b[49m\n\u001b[0;32m    247\u001b[0m \u001b[43m    \u001b[49m\u001b[43mrate\u001b[49m\u001b[38;5;241;43m=\u001b[39;49m\u001b[43mrate\u001b[49m\u001b[43m,\u001b[49m\n\u001b[0;32m    248\u001b[0m \u001b[43m    \u001b[49m\u001b[43mhop_length\u001b[49m\u001b[38;5;241;43m=\u001b[39;49m\u001b[43mkwargs\u001b[49m\u001b[38;5;241;43m.\u001b[39;49m\u001b[43mget\u001b[49m\u001b[43m(\u001b[49m\u001b[38;5;124;43m\"\u001b[39;49m\u001b[38;5;124;43mhop_length\u001b[39;49m\u001b[38;5;124;43m\"\u001b[39;49m\u001b[43m,\u001b[49m\u001b[43m \u001b[49m\u001b[38;5;28;43;01mNone\u001b[39;49;00m\u001b[43m)\u001b[49m\u001b[43m,\u001b[49m\n\u001b[0;32m    249\u001b[0m \u001b[43m    \u001b[49m\u001b[43mn_fft\u001b[49m\u001b[38;5;241;43m=\u001b[39;49m\u001b[43mkwargs\u001b[49m\u001b[38;5;241;43m.\u001b[39;49m\u001b[43mget\u001b[49m\u001b[43m(\u001b[49m\u001b[38;5;124;43m\"\u001b[39;49m\u001b[38;5;124;43mn_fft\u001b[39;49m\u001b[38;5;124;43m\"\u001b[39;49m\u001b[43m,\u001b[49m\u001b[43m \u001b[49m\u001b[38;5;28;43;01mNone\u001b[39;49;00m\u001b[43m)\u001b[49m\u001b[43m,\u001b[49m\n\u001b[0;32m    250\u001b[0m \u001b[43m\u001b[49m\u001b[43m)\u001b[49m\n\u001b[0;32m    252\u001b[0m \u001b[38;5;66;03m# Predict the length of y_stretch\u001b[39;00m\n\u001b[0;32m    253\u001b[0m len_stretch \u001b[38;5;241m=\u001b[39m \u001b[38;5;28mint\u001b[39m(\u001b[38;5;28mround\u001b[39m(y\u001b[38;5;241m.\u001b[39mshape[\u001b[38;5;241m-\u001b[39m\u001b[38;5;241m1\u001b[39m] \u001b[38;5;241m/\u001b[39m rate))\n",
      "File \u001b[1;32mC:\\anaconda3\\envs\\condatorch\\lib\\site-packages\\librosa\\core\\spectrum.py:1457\u001b[0m, in \u001b[0;36mphase_vocoder\u001b[1;34m(D, rate, hop_length, n_fft)\u001b[0m\n\u001b[0;32m   1454\u001b[0m mag \u001b[38;5;241m=\u001b[39m (\u001b[38;5;241m1.0\u001b[39m \u001b[38;5;241m-\u001b[39m alpha) \u001b[38;5;241m*\u001b[39m np\u001b[38;5;241m.\u001b[39mabs(columns[\u001b[38;5;241m.\u001b[39m\u001b[38;5;241m.\u001b[39m\u001b[38;5;241m.\u001b[39m, \u001b[38;5;241m0\u001b[39m]) \u001b[38;5;241m+\u001b[39m alpha \u001b[38;5;241m*\u001b[39m np\u001b[38;5;241m.\u001b[39mabs(columns[\u001b[38;5;241m.\u001b[39m\u001b[38;5;241m.\u001b[39m\u001b[38;5;241m.\u001b[39m, \u001b[38;5;241m1\u001b[39m])\n\u001b[0;32m   1456\u001b[0m \u001b[38;5;66;03m# Store to output array\u001b[39;00m\n\u001b[1;32m-> 1457\u001b[0m d_stretch[\u001b[38;5;241m.\u001b[39m\u001b[38;5;241m.\u001b[39m\u001b[38;5;241m.\u001b[39m, t] \u001b[38;5;241m=\u001b[39m \u001b[43mutil\u001b[49m\u001b[38;5;241;43m.\u001b[39;49m\u001b[43mphasor\u001b[49m\u001b[43m(\u001b[49m\u001b[43mphase_acc\u001b[49m\u001b[43m,\u001b[49m\u001b[43m \u001b[49m\u001b[43mmag\u001b[49m\u001b[38;5;241;43m=\u001b[39;49m\u001b[43mmag\u001b[49m\u001b[43m)\u001b[49m\n\u001b[0;32m   1459\u001b[0m \u001b[38;5;66;03m# Compute phase advance\u001b[39;00m\n\u001b[0;32m   1460\u001b[0m dphase \u001b[38;5;241m=\u001b[39m np\u001b[38;5;241m.\u001b[39mangle(columns[\u001b[38;5;241m.\u001b[39m\u001b[38;5;241m.\u001b[39m\u001b[38;5;241m.\u001b[39m, \u001b[38;5;241m1\u001b[39m]) \u001b[38;5;241m-\u001b[39m np\u001b[38;5;241m.\u001b[39mangle(columns[\u001b[38;5;241m.\u001b[39m\u001b[38;5;241m.\u001b[39m\u001b[38;5;241m.\u001b[39m, \u001b[38;5;241m0\u001b[39m]) \u001b[38;5;241m-\u001b[39m phi_advance\n",
      "File \u001b[1;32mC:\\anaconda3\\envs\\condatorch\\lib\\site-packages\\librosa\\util\\utils.py:2602\u001b[0m, in \u001b[0;36mphasor\u001b[1;34m(angles, mag)\u001b[0m\n\u001b[0;32m   2544\u001b[0m \u001b[38;5;28;01mdef\u001b[39;00m \u001b[38;5;21mphasor\u001b[39m(\n\u001b[0;32m   2545\u001b[0m     angles: Union[np\u001b[38;5;241m.\u001b[39mndarray, _Real],\n\u001b[0;32m   2546\u001b[0m     \u001b[38;5;241m*\u001b[39m,\n\u001b[0;32m   2547\u001b[0m     mag: Optional[Union[np\u001b[38;5;241m.\u001b[39mndarray, _Number]] \u001b[38;5;241m=\u001b[39m \u001b[38;5;28;01mNone\u001b[39;00m,\n\u001b[0;32m   2548\u001b[0m ) \u001b[38;5;241m-\u001b[39m\u001b[38;5;241m>\u001b[39m Union[np\u001b[38;5;241m.\u001b[39mndarray, np\u001b[38;5;241m.\u001b[39mcomplex_]:\n\u001b[0;32m   2549\u001b[0m \u001b[38;5;250m    \u001b[39m\u001b[38;5;124;03m\"\"\"Construct a complex phasor representation from angles.\u001b[39;00m\n\u001b[0;32m   2550\u001b[0m \n\u001b[0;32m   2551\u001b[0m \u001b[38;5;124;03m    When `mag` is not provided, this is equivalent to:\u001b[39;00m\n\u001b[1;32m   (...)\u001b[0m\n\u001b[0;32m   2600\u001b[0m \u001b[38;5;124;03m    array([5.000e-01+0.j , 9.185e-17+1.5j])\u001b[39;00m\n\u001b[0;32m   2601\u001b[0m \u001b[38;5;124;03m    \"\"\"\u001b[39;00m\n\u001b[1;32m-> 2602\u001b[0m     z \u001b[38;5;241m=\u001b[39m \u001b[43m_phasor_angles\u001b[49m\u001b[43m(\u001b[49m\u001b[43mangles\u001b[49m\u001b[43m)\u001b[49m\n\u001b[0;32m   2604\u001b[0m     \u001b[38;5;28;01mif\u001b[39;00m mag \u001b[38;5;129;01mis\u001b[39;00m \u001b[38;5;129;01mnot\u001b[39;00m \u001b[38;5;28;01mNone\u001b[39;00m:\n\u001b[0;32m   2605\u001b[0m         z \u001b[38;5;241m*\u001b[39m\u001b[38;5;241m=\u001b[39m mag\n",
      "\u001b[1;31mKeyboardInterrupt\u001b[0m: "
     ]
    }
   ],
   "source": [
    "file_paths = glob.glob(os.path.join('*', '*', '*', '*.wav'))\n",
    "#print(file_paths)\n",
    "for file in file_paths[600:]:\n",
    "    file_splitted = file.split('\\\\')\n",
    "    folder_name = file_splitted[2]\n",
    "    file_name = file_splitted[3]\n",
    "    print(file, folder_name, file_name)\n",
    "    \n",
    "    try:\n",
    "        data, sr = librosa.load(file, sr=22050)\n",
    "        print(data, sr)\n",
    "\n",
    "        visualize_waveshow(data, sr, folder_name, file_name)\n",
    "\n",
    "        visualize_stft(data, sr, folder_name, file_name)\n",
    "\n",
    "        visualize_mel_spec(data, sr, folder_name, file_name)\n",
    "        \n",
    "    except Exception as e:\n",
    "        print('exception')\n",
    "        "
   ]
  },
  {
   "cell_type": "code",
   "execution_count": 6,
   "id": "24f336ed",
   "metadata": {},
   "outputs": [],
   "source": [
    "from PIL import Image"
   ]
  },
  {
   "cell_type": "code",
   "execution_count": 12,
   "id": "62ec33d0",
   "metadata": {},
   "outputs": [],
   "source": [
    "def expend2square(pil_img, background_color):\n",
    "    width, height = pil_img.size\n",
    "    \n",
    "    if width == height:\n",
    "        return pil_img\n",
    "    \n",
    "    elif width > height:\n",
    "        result = Image.new(pil_img.mode, (width,width), background_color)\n",
    "        result.paste(pil_img, (0,(width-height)//2))\n",
    "        return result\n",
    "    else:\n",
    "        result = Image.new(pil_img.mode, (height,height), background_color)\n",
    "        result.paste(pil_img, ((height-width)//2, 0))\n",
    "        return result"
   ]
  },
  {
   "cell_type": "code",
   "execution_count": 13,
   "id": "8d9a5fed",
   "metadata": {},
   "outputs": [],
   "source": [
    "def resize_with_padding(pil_img, newsize, background_color):\n",
    "    img = expend2square(pil_img, background_color)\n",
    "    img = img.resize((newsize[0], newsize[1]), Image.ANTIALIAS)\n",
    "    \n",
    "    return img"
   ]
  },
  {
   "cell_type": "code",
   "execution_count": 14,
   "id": "5f513a36",
   "metadata": {},
   "outputs": [
    {
     "name": "stdout",
     "output_type": "stream",
     "text": [
      "<PIL.PngImagePlugin.PngImageFile image mode=RGBA size=930x308 at 0x186036109D0>\n"
     ]
    },
    {
     "name": "stderr",
     "output_type": "stream",
     "text": [
      "C:\\Users\\김동명\\AppData\\Local\\Temp\\ipykernel_29752\\3409867158.py:3: DeprecationWarning: ANTIALIAS is deprecated and will be removed in Pillow 10 (2023-07-01). Use LANCZOS or Resampling.LANCZOS instead.\n",
      "  img = img.resize((newsize[0], newsize[1]), Image.ANTIALIAS)\n"
     ]
    }
   ],
   "source": [
    "img_path_list = glob.glob(os.path.join('./image_extraction_data', '*', '*', '*.png'))\n",
    "#print(img_path_list)\n",
    "\n",
    "for i, img_path in enumerate(img_path_list):\n",
    "    img = Image.open(img_path)\n",
    "    img_new = resize_with_padding(img, (255,255), (0,0,0))\n",
    "    \n",
    "    file_splitted2 = img_path.split('\\\\')\n",
    "    type_name = file_splitted2[1]\n",
    "    folder_name2 = file_splitted2[2]\n",
    "    file_name2 = file_splitted2[3]\n",
    "    print(type_name, folder_name2, file_name2)\n",
    "    \n",
    "    dir_path2 = f'./final_data/{type_name}/{folder_name2}'\n",
    "    os.makedirs(dir_path2, exist_ok=True)\n",
    "    \n",
    "    save_file_name = f'./final_data/{type_name}/{folder_name2}/{file_name2}.png'\n",
    "    img_new.save(save_file_name, 'png')\n",
    "    "
   ]
  },
  {
   "cell_type": "code",
   "execution_count": null,
   "id": "3a4053ae",
   "metadata": {},
   "outputs": [],
   "source": []
  }
 ],
 "metadata": {
  "kernelspec": {
   "display_name": "condatorch",
   "language": "python",
   "name": "condatorch"
  },
  "language_info": {
   "codemirror_mode": {
    "name": "ipython",
    "version": 3
   },
   "file_extension": ".py",
   "mimetype": "text/x-python",
   "name": "python",
   "nbconvert_exporter": "python",
   "pygments_lexer": "ipython3",
   "version": "3.8.16"
  }
 },
 "nbformat": 4,
 "nbformat_minor": 5
}
