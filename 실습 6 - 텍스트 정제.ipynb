{
 "cells": [
  {
   "cell_type": "code",
   "execution_count": 58,
   "id": "30c456df",
   "metadata": {},
   "outputs": [],
   "source": [
    "import re\n",
    "import sys\n",
    "import unicodedata\n",
    "from nltk.tokenize import sent_tokenize\n",
    "from nltk.tokenize import word_tokenize\n",
    "import nltk\n",
    "from nltk.corpus import stopwords\n",
    "from nltk.stem.porter import PorterStemmer\n",
    "from nltk import pos_tag\n",
    "import numpy as np\n",
    "from sklearn.feature_extraction.text import TfidfVectorizer\n",
    "import pytagcloud\n",
    "import webbrowser"
   ]
  },
  {
   "cell_type": "code",
   "execution_count": 8,
   "id": "b714863a",
   "metadata": {},
   "outputs": [],
   "source": [
    "text_data = [' fit 메서드는 학습이 완료된 모델을 반환합니다. ?????      ',\n",
    "             '         fit_transform 메서드는 학습이 완료된 변환기 객체와 변환된 데이터를 반환합니다. !!!!!']"
   ]
  },
  {
   "cell_type": "markdown",
   "id": "0049be6a",
   "metadata": {},
   "source": [
    "# 공백 문자 제거"
   ]
  },
  {
   "cell_type": "code",
   "execution_count": 9,
   "id": "ea270afb",
   "metadata": {},
   "outputs": [
    {
     "name": "stdout",
     "output_type": "stream",
     "text": [
      "['fit 메서드는 학습이 완료된 모델을 반환합니다. ?????', 'fit_transform 메서드는 학습이 완료된 변환기 객체와 변환된 데이터를 반환합니다. !!!!!']\n"
     ]
    }
   ],
   "source": [
    "strip_whitespace = [string.strip() for string in text_data] \n",
    "print(strip_whitespace)"
   ]
  },
  {
   "cell_type": "markdown",
   "id": "e3ee99f9",
   "metadata": {},
   "source": [
    "# 마침표 제거"
   ]
  },
  {
   "cell_type": "code",
   "execution_count": 10,
   "id": "bc12d280",
   "metadata": {},
   "outputs": [
    {
     "name": "stdout",
     "output_type": "stream",
     "text": [
      "['fit 메서드는 학습이 완료된 모델을 반환합니다 ?????', 'fit_transform 메서드는 학습이 완료된 변환기 객체와 변환된 데이터를 반환합니다 !!!!!']\n"
     ]
    }
   ],
   "source": [
    "remove_periods = [string.replace('.','') for string in strip_whitespace]\n",
    "print(remove_periods)"
   ]
  },
  {
   "cell_type": "markdown",
   "id": "2e4bd7f9",
   "metadata": {},
   "source": [
    "# 구두점 제거"
   ]
  },
  {
   "cell_type": "code",
   "execution_count": 14,
   "id": "e868aee9",
   "metadata": {},
   "outputs": [
    {
     "name": "stdout",
     "output_type": "stream",
     "text": [
      "['fit 메서드는 학습이 완료된 모델을 반환합니다 ', 'fittransform 메서드는 학습이 완료된 변환기 객체와 변환된 데이터를 반환합니다 ']\n"
     ]
    }
   ],
   "source": [
    "punctuation = dict.fromkeys(i for i in range (sys.maxunicode) if unicodedata.category(chr(i)).startswith('P'))\n",
    "\n",
    "data = [string.translate(punctuation) for string in remove_periods]\n",
    "print(data)"
   ]
  },
  {
   "cell_type": "code",
   "execution_count": 18,
   "id": "05a4278c",
   "metadata": {},
   "outputs": [
    {
     "name": "stderr",
     "output_type": "stream",
     "text": [
      "[nltk_data] Downloading package punkt to\n",
      "[nltk_data]     C:\\Users\\김동명\\AppData\\Roaming\\nltk_data...\n",
      "[nltk_data]   Package punkt is already up-to-date!\n"
     ]
    },
    {
     "data": {
      "text/plain": [
       "True"
      ]
     },
     "execution_count": 18,
     "metadata": {},
     "output_type": "execute_result"
    }
   ],
   "source": [
    "nltk.download('punkt')"
   ]
  },
  {
   "cell_type": "markdown",
   "id": "b0d5a2f3",
   "metadata": {},
   "source": [
    "# 단어 나누기"
   ]
  },
  {
   "cell_type": "code",
   "execution_count": 22,
   "id": "0c1d5dd4",
   "metadata": {},
   "outputs": [
    {
     "name": "stdout",
     "output_type": "stream",
     "text": [
      "['fit', '메서드는', '학습이', '완료된', '모델을', '반환합니다']\n"
     ]
    }
   ],
   "source": [
    "word_data = word_tokenize(data[0])\n",
    "print(word_data)"
   ]
  },
  {
   "cell_type": "markdown",
   "id": "43a41eef",
   "metadata": {},
   "source": [
    "# 문장 나누기"
   ]
  },
  {
   "cell_type": "code",
   "execution_count": 25,
   "id": "4d2bb42f",
   "metadata": {},
   "outputs": [
    {
     "name": "stdout",
     "output_type": "stream",
     "text": [
      "[' fit 메서드는 학습이 완료된 모델을 반환합니다.', 'fit_transform 메서드는 학습이 완료된 변환기 객체와 변환된 데이터를 반환합니다.']\n"
     ]
    }
   ],
   "source": [
    "string = ' fit 메서드는 학습이 완료된 모델을 반환합니다. fit_transform 메서드는 학습이 완료된 변환기 객체와 변환된 데이터를 반환합니다.'\n",
    "sent_data = sent_tokenize(string)\n",
    "print(sent_data)"
   ]
  },
  {
   "cell_type": "markdown",
   "id": "64e05b3f",
   "metadata": {},
   "source": [
    "# 불용어 제거"
   ]
  },
  {
   "cell_type": "code",
   "execution_count": 30,
   "id": "5d521b4b",
   "metadata": {},
   "outputs": [
    {
     "name": "stderr",
     "output_type": "stream",
     "text": [
      "[nltk_data] Downloading package stopwords to\n",
      "[nltk_data]     C:\\Users\\김동명\\AppData\\Roaming\\nltk_data...\n",
      "[nltk_data]   Package stopwords is already up-to-date!\n"
     ]
    },
    {
     "data": {
      "text/plain": [
       "True"
      ]
     },
     "execution_count": 30,
     "metadata": {},
     "output_type": "execute_result"
    }
   ],
   "source": [
    "nltk.download('stopwords')"
   ]
  },
  {
   "cell_type": "code",
   "execution_count": 41,
   "id": "d54f0a4f",
   "metadata": {},
   "outputs": [
    {
     "name": "stdout",
     "output_type": "stream",
     "text": [
      "['i', 'me', 'my', 'myself', 'we', 'our', 'ours', 'ourselves', 'you', \"you're\", \"you've\", \"you'll\", \"you'd\", 'your', 'yours', 'yourself', 'yourselves', 'he', 'him', 'his', 'himself', 'she', \"she's\", 'her', 'hers', 'herself', 'it', \"it's\", 'its', 'itself', 'they', 'them', 'their', 'theirs', 'themselves', 'what', 'which', 'who', 'whom', 'this', 'that', \"that'll\", 'these', 'those', 'am', 'is', 'are', 'was', 'were', 'be', 'been', 'being', 'have', 'has', 'had', 'having', 'do', 'does', 'did', 'doing', 'a', 'an', 'the', 'and', 'but', 'if', 'or', 'because', 'as', 'until', 'while', 'of', 'at', 'by', 'for', 'with', 'about', 'against', 'between', 'into', 'through', 'during', 'before', 'after', 'above', 'below', 'to', 'from', 'up', 'down', 'in', 'out', 'on', 'off', 'over', 'under', 'again', 'further', 'then', 'once', 'here', 'there', 'when', 'where', 'why', 'how', 'all', 'any', 'both', 'each', 'few', 'more', 'most', 'other', 'some', 'such', 'no', 'nor', 'not', 'only', 'own', 'same', 'so', 'than', 'too', 'very', 's', 't', 'can', 'will', 'just', 'don', \"don't\", 'should', \"should've\", 'now', 'd', 'll', 'm', 'o', 're', 've', 'y', 'ain', 'aren', \"aren't\", 'couldn', \"couldn't\", 'didn', \"didn't\", 'doesn', \"doesn't\", 'hadn', \"hadn't\", 'hasn', \"hasn't\", 'haven', \"haven't\", 'isn', \"isn't\", 'ma', 'mightn', \"mightn't\", 'mustn', \"mustn't\", 'needn', \"needn't\", 'shan', \"shan't\", 'shouldn', \"shouldn't\", 'wasn', \"wasn't\", 'weren', \"weren't\", 'won', \"won't\", 'wouldn', \"wouldn't\"]\n",
      "['going', 'store', 'park']\n"
     ]
    }
   ],
   "source": [
    "tokenized_words = ['i', 'am', 'going', 'to', 'the', 'store', 'and', 'park']\n",
    "stop_words =stopwords.words('english')\n",
    "filtered_data = [word for word in tokenized_words if word not in stop_words]  #불용어 삭제\n",
    "\n",
    "print(stop_words)\n",
    "print(filtered_data)"
   ]
  },
  {
   "cell_type": "markdown",
   "id": "2f8ddf62",
   "metadata": {},
   "source": [
    "# 어간 추출"
   ]
  },
  {
   "cell_type": "code",
   "execution_count": 44,
   "id": "cf72c68a",
   "metadata": {},
   "outputs": [
    {
     "name": "stdout",
     "output_type": "stream",
     "text": [
      "['i', 'am', 'go', 'to', 'the', 'store', 'and', 'park', 'meet', 'tradit', 'humbl']\n"
     ]
    }
   ],
   "source": [
    "tokenized_words_temp = ['i', 'am', 'going', 'to', 'the', 'store', 'and', 'park', 'meeting', 'traditional', 'humbled']\n",
    "\n",
    "porter = PorterStemmer()\n",
    "word_list_temp = []\n",
    "\n",
    "for word in tokenized_words_temp:\n",
    "    word_list_temp.append(porter.stem(word))\n",
    "\n",
    "print(word_list_temp)"
   ]
  },
  {
   "cell_type": "markdown",
   "id": "66560e81",
   "metadata": {},
   "source": [
    "# 품사 태깅"
   ]
  },
  {
   "cell_type": "code",
   "execution_count": 46,
   "id": "f6174f69",
   "metadata": {},
   "outputs": [
    {
     "name": "stdout",
     "output_type": "stream",
     "text": [
      "[('Chris', 'NNP'), ('loved', 'VBD'), ('outdoor', 'RP'), ('running', 'VBG')]\n"
     ]
    },
    {
     "name": "stderr",
     "output_type": "stream",
     "text": [
      "[nltk_data] Error loading averaged_percetron_tagger: Package\n",
      "[nltk_data]     'averaged_percetron_tagger' not found in index\n"
     ]
    }
   ],
   "source": [
    "nltk.download('averaged_percetron_tagger')\n",
    "text_data_tagger = 'Chris loved outdoor running'  #샘플 데이터\n",
    "\n",
    "text_tagged = pos_tag(word_tokenize(text_data_tagger))\n",
    "print(text_tagged)"
   ]
  },
  {
   "cell_type": "markdown",
   "id": "36d78725",
   "metadata": {},
   "source": [
    "# 단어 중요도에 따른 가중치 부여하기"
   ]
  },
  {
   "cell_type": "code",
   "execution_count": 48,
   "id": "7e5bc37e",
   "metadata": {},
   "outputs": [],
   "source": [
    "text_data = np.array((['I loved Brazil. Brazil!', 'Sweden is the best', 'Germany beats both']))"
   ]
  },
  {
   "cell_type": "code",
   "execution_count": 50,
   "id": "5702805b",
   "metadata": {},
   "outputs": [
    {
     "name": "stdout",
     "output_type": "stream",
     "text": [
      "  (0, 3)\t0.8944271909999159\n",
      "  (0, 6)\t0.4472135954999579\n",
      "  (1, 1)\t0.5\n",
      "  (1, 8)\t0.5\n",
      "  (1, 5)\t0.5\n",
      "  (1, 7)\t0.5\n",
      "  (2, 2)\t0.5773502691896257\n",
      "  (2, 0)\t0.5773502691896257\n",
      "  (2, 4)\t0.5773502691896257\n"
     ]
    },
    {
     "data": {
      "text/plain": [
       "array([[0.        , 0.        , 0.        , 0.89442719, 0.        ,\n",
       "        0.        , 0.4472136 , 0.        , 0.        ],\n",
       "       [0.        , 0.5       , 0.        , 0.        , 0.        ,\n",
       "        0.5       , 0.        , 0.5       , 0.5       ],\n",
       "       [0.57735027, 0.        , 0.57735027, 0.        , 0.57735027,\n",
       "        0.        , 0.        , 0.        , 0.        ]])"
      ]
     },
     "execution_count": 50,
     "metadata": {},
     "output_type": "execute_result"
    }
   ],
   "source": [
    "tfidf = TfidfVectorizer()\n",
    "feature_matrix = tfidf.fit_transform(text_data)\n",
    "print(feature_matrix)\n",
    "feature_matrix.toarray()"
   ]
  },
  {
   "cell_type": "code",
   "execution_count": 52,
   "id": "d89c4fdf",
   "metadata": {},
   "outputs": [
    {
     "name": "stdout",
     "output_type": "stream",
     "text": [
      "{'loved': 6, 'brazil': 3, 'sweden': 7, 'is': 5, 'the': 8, 'best': 1, 'germany': 4, 'beats': 0, 'both': 2}\n"
     ]
    }
   ],
   "source": [
    "tf = tfidf.vocabulary_  # 특성 이름을 확인\n",
    "print(tf)"
   ]
  },
  {
   "cell_type": "markdown",
   "id": "d9c9e387",
   "metadata": {},
   "source": [
    "# Word Cloud 단어 뭉치 가시화"
   ]
  },
  {
   "cell_type": "code",
   "execution_count": 59,
   "id": "49e5f4f1",
   "metadata": {},
   "outputs": [
    {
     "data": {
      "text/plain": [
       "True"
      ]
     },
     "execution_count": 59,
     "metadata": {},
     "output_type": "execute_result"
    }
   ],
   "source": [
    "tag = [('Hello',100), ('World',80), ('Python',120), ('AI',150), ('DB',40), ('Kaggle',55)]\n",
    "\n",
    "tag_list = pytagcloud.make_tags(tag, maxsize=50) # tag화 시켜줌\n",
    "pytagcloud.create_tag_image(tag_list, 'word_cloud.jpg', size=(900,600), rectangular=False)\n",
    "\n",
    "webbrowser.open('word_cloud.jpg')"
   ]
  },
  {
   "cell_type": "code",
   "execution_count": 60,
   "id": "deb9d504",
   "metadata": {},
   "outputs": [],
   "source": [
    "from IPython.display import Image"
   ]
  },
  {
   "cell_type": "code",
   "execution_count": 61,
   "id": "2c9631e2",
   "metadata": {},
   "outputs": [
    {
     "data": {
      "image/jpeg": "[encoded data removed]",
      "text/plain": [
       "<IPython.core.display.Image object>"
      ]
     },
     "execution_count": 61,
     "metadata": {},
     "output_type": "execute_result"
    }
   ],
   "source": [
    "Image('./word_cloud.jpg')"
   ]
  },
  {
   "cell_type": "code",
   "execution_count": null,
   "id": "88c7f3dc",
   "metadata": {},
   "outputs": [],
   "source": []
  }
 ],
 "metadata": {
  "kernelspec": {
   "display_name": "condatorch",
   "language": "python",
   "name": "condatorch"
  },
  "language_info": {
   "codemirror_mode": {
    "name": "ipython",
    "version": 3
   },
   "file_extension": ".py",
   "mimetype": "text/x-python",
   "name": "python",
   "nbconvert_exporter": "python",
   "pygments_lexer": "ipython3",
   "version": "3.8.16"
  }
 },
 "nbformat": 4,
 "nbformat_minor": 5
}
