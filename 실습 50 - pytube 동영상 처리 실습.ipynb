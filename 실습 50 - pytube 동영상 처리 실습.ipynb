{
 "cells": [
  {
   "cell_type": "code",
   "execution_count": 3,
   "id": "9a09d61a",
   "metadata": {},
   "outputs": [
    {
     "name": "stdout",
     "output_type": "stream",
     "text": [
      "Collecting pytube\n",
      "  Downloading pytube-15.0.0-py3-none-any.whl (57 kB)\n",
      "     ---------------------------------------- 0.0/57.6 kB ? eta -:--:--\n",
      "     ---------------------------------------- 57.6/57.6 kB ? eta 0:00:00\n",
      "Installing collected packages: pytube\n",
      "Successfully installed pytube-15.0.0\n"
     ]
    }
   ],
   "source": [
    "#!pip install pytube\n"
   ]
  },
  {
   "cell_type": "code",
   "execution_count": 14,
   "id": "a1206cb2",
   "metadata": {},
   "outputs": [],
   "source": [
    "from pytube import YouTube\n",
    "from IPython.display import HTML\n",
    "import cv2\n",
    "import os"
   ]
  },
  {
   "cell_type": "code",
   "execution_count": 9,
   "id": "cc9ff979",
   "metadata": {},
   "outputs": [
    {
     "name": "stdout",
     "output_type": "stream",
     "text": [
      "홈페이지 배경 샘플 영상 - 바다\n"
     ]
    },
    {
     "data": {
      "text/plain": [
       "'C:\\\\Users\\\\김동명\\\\Desktop\\\\실습\\\\홈페이지 배경 샘플 영상 - 바다.mp4'"
      ]
     },
     "execution_count": 9,
     "metadata": {},
     "output_type": "execute_result"
    }
   ],
   "source": [
    "# 다운받을 url\n",
    "url = 'https://www.youtube.com/watch?v=ILqJOHYYlkc'\n",
    "\n",
    "# Yotube 객체생성\n",
    "yt = YouTube(url)\n",
    "print(yt.title)\n",
    "\n",
    "# 다운로드 가능한 형식중 가장높은 화질 선택\n",
    "stream = yt.streams.filter(progressive=True, file_extension='mp4').order_by('resolution').desc().first()\n",
    "\n",
    "# 다운로드\n",
    "stream.download()"
   ]
  },
  {
   "cell_type": "code",
   "execution_count": 12,
   "id": "df83d02d",
   "metadata": {},
   "outputs": [
    {
     "name": "stdout",
     "output_type": "stream",
     "text": [
      "855\n",
      "1280\n",
      "720\n",
      "29\n"
     ]
    }
   ],
   "source": [
    "cap = cv2.VideoCapture('./홈페이지 배경 샘플 영상 - 바다.mp4')\n",
    "\n",
    "print(int(cap.get(cv2.CAP_PROP_FRAME_COUNT)))\n",
    "print(int(cap.get(cv2.CAP_PROP_FRAME_WIDTH)))\n",
    "print(int(cap.get(cv2.CAP_PROP_FRAME_HEIGHT)))\n",
    "print(int(cap.get(cv2.CAP_PROP_FPS)))"
   ]
  },
  {
   "cell_type": "code",
   "execution_count": 15,
   "id": "242d5bd5",
   "metadata": {},
   "outputs": [],
   "source": [
    "img_count = 0\n",
    "\n",
    "os.makedirs('./data/video_frame_dataset', exist_ok=True)\n",
    "\n",
    "# 프레임 단위로 저장\n",
    "while True:\n",
    "    ret, frame = cap.read()\n",
    "    \n",
    "    if not ret:\n",
    "        break\n",
    "    \n",
    "    # 15 프레임 단위로 저장\n",
    "    if img_count % 15 == 0:\n",
    "        img_filename = f'./data/video_frame_dataset/frame{img_count:04d}.png'\n",
    "        cv2.imwrite(img_filename, frame)\n",
    "        \n",
    "    img_count +=1\n",
    "\n",
    "cap.release()"
   ]
  },
  {
   "cell_type": "code",
   "execution_count": null,
   "id": "d0d23d3f",
   "metadata": {},
   "outputs": [],
   "source": []
  }
 ],
 "metadata": {
  "kernelspec": {
   "display_name": "condatorch",
   "language": "python",
   "name": "condatorch"
  },
  "language_info": {
   "codemirror_mode": {
    "name": "ipython",
    "version": 3
   },
   "file_extension": ".py",
   "mimetype": "text/x-python",
   "name": "python",
   "nbconvert_exporter": "python",
   "pygments_lexer": "ipython3",
   "version": "3.8.16"
  }
 },
 "nbformat": 4,
 "nbformat_minor": 5
}
