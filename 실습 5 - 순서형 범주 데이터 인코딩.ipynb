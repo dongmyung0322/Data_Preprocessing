{
 "cells": [
  {
   "cell_type": "code",
   "execution_count": 22,
   "id": "7b19d497",
   "metadata": {},
   "outputs": [],
   "source": [
    "import pandas as pd\n",
    "from sklearn.preprocessing import OrdinalEncoder\n",
    "import numpy as np\n",
    "from sklearn.feature_extraction import DictVectorizer\n",
    "from sklearn.neighbors import KNeighborsClassifier\n",
    "from sklearn.impute import SimpleImputer"
   ]
  },
  {
   "cell_type": "code",
   "execution_count": 2,
   "id": "7b8219b0",
   "metadata": {},
   "outputs": [],
   "source": [
    "data = pd.DataFrame({\n",
    "    'Score':['Low','Low','Medium','Medium','High']\n",
    "})\n",
    "\n",
    "# 매핑 딕셔너리 생성\n",
    "scale_mapper = {\n",
    "    'Low' : 1,\n",
    "    'Medium' : 2,\n",
    "    'High' : 3\n",
    "}"
   ]
  },
  {
   "cell_type": "code",
   "execution_count": 3,
   "id": "5663d87f",
   "metadata": {},
   "outputs": [
    {
     "name": "stdout",
     "output_type": "stream",
     "text": [
      "0    1\n",
      "1    1\n",
      "2    2\n",
      "3    2\n",
      "4    3\n",
      "Name: Score, dtype: int64\n"
     ]
    }
   ],
   "source": [
    "data = data[\"Score\"].replace(scale_mapper)  # 특성을 정수로 변환\n",
    "print(data)"
   ]
  },
  {
   "cell_type": "code",
   "execution_count": 4,
   "id": "526fb75b",
   "metadata": {},
   "outputs": [],
   "source": [
    "features_array = np.array([['Low',10], ['High',50], ['Medium',3]])"
   ]
  },
  {
   "cell_type": "code",
   "execution_count": 5,
   "id": "83247771",
   "metadata": {},
   "outputs": [
    {
     "name": "stdout",
     "output_type": "stream",
     "text": [
      "[array(['High', 'Low', 'Medium'], dtype='<U11'), array(['10', '3', '50'], dtype='<U11')]\n"
     ]
    }
   ],
   "source": [
    "ordinal_encoder = OrdinalEncoder()\n",
    "ordinal_encoder.fit_transform(features_array)\n",
    "ordinal_encoder_data = ordinal_encoder.categories_\n",
    "\n",
    "print(ordinal_encoder_data)"
   ]
  },
  {
   "cell_type": "markdown",
   "id": "00a9042a",
   "metadata": {},
   "source": [
    "# 특성 딕셔너리 인코딩"
   ]
  },
  {
   "cell_type": "code",
   "execution_count": 6,
   "id": "b9496848",
   "metadata": {},
   "outputs": [],
   "source": [
    "data_dict = [{'Red':2, 'Blue':4},\n",
    "            {'Red':4, 'Blue':3},\n",
    "            {'Red':1, 'Yellow':2},\n",
    "            {'Red':1, 'Yellow':2}]"
   ]
  },
  {
   "cell_type": "code",
   "execution_count": 10,
   "id": "6b120b80",
   "metadata": {},
   "outputs": [
    {
     "name": "stdout",
     "output_type": "stream",
     "text": [
      "[[4. 2. 0.]\n",
      " [3. 4. 0.]\n",
      " [0. 1. 2.]\n",
      " [0. 1. 2.]]\n"
     ]
    }
   ],
   "source": [
    "dictVectorizer = DictVectorizer(sparse=False)\n",
    "features = dictVectorizer.fit_transform(data_dict)\n",
    "print(features)"
   ]
  },
  {
   "cell_type": "code",
   "execution_count": 12,
   "id": "fc46d5ea",
   "metadata": {},
   "outputs": [
    {
     "name": "stdout",
     "output_type": "stream",
     "text": [
      "['Blue' 'Red' 'Yellow']\n"
     ]
    }
   ],
   "source": [
    "feature_names = dictVectorizer.get_feature_names_out()\n",
    "print(feature_names)"
   ]
  },
  {
   "cell_type": "code",
   "execution_count": 13,
   "id": "008bcf5f",
   "metadata": {},
   "outputs": [
    {
     "name": "stdout",
     "output_type": "stream",
     "text": [
      "   Blue  Red  Yellow\n",
      "0   4.0  2.0     0.0\n",
      "1   3.0  4.0     0.0\n",
      "2   0.0  1.0     2.0\n",
      "3   0.0  1.0     2.0\n"
     ]
    }
   ],
   "source": [
    "dict_data = pd.DataFrame(features, columns=feature_names)\n",
    "print(dict_data)"
   ]
  },
  {
   "cell_type": "markdown",
   "id": "7e86c2d9",
   "metadata": {},
   "source": [
    "# 누락된 클래스 값 대처 하기 (KNN)"
   ]
  },
  {
   "cell_type": "code",
   "execution_count": 15,
   "id": "da74f1c6",
   "metadata": {},
   "outputs": [],
   "source": [
    "x = np.array([[0, 2.10, 1.45],\n",
    "             [1, 1.18, 1.33],\n",
    "             [0, 1.22, 1.27],\n",
    "             [1, -0.20, -1.15]])\n",
    "\n",
    "x_with_nan = np.array([[np.nan, 0.87, 1.31], [np.nan,-0.67, -0.22]])"
   ]
  },
  {
   "cell_type": "code",
   "execution_count": 16,
   "id": "46ec0a05",
   "metadata": {},
   "outputs": [
    {
     "name": "stdout",
     "output_type": "stream",
     "text": [
      "[[ 2.1   1.45]\n",
      " [ 1.18  1.33]\n",
      " [ 1.22  1.27]\n",
      " [-0.2  -1.15]]\n",
      "[0. 1. 0. 1.]\n"
     ]
    }
   ],
   "source": [
    "clf = KNeighborsClassifier(3, weights='distance') # k=3 , 가장 가까운 값 3개를 찾아 가중치 부여하여 예측\n",
    "\n",
    "print(x[:,1:])\n",
    "print(x[:,0])"
   ]
  },
  {
   "cell_type": "code",
   "execution_count": 21,
   "id": "335c22bb",
   "metadata": {},
   "outputs": [
    {
     "name": "stdout",
     "output_type": "stream",
     "text": [
      "[0. 1.]\n"
     ]
    }
   ],
   "source": [
    "train_model = clf.fit(x[:,1:], x[:,0]) # 훈련\n",
    "imputed_values = train_model.predict(x_with_nan[:,1:]) #예측\n",
    "print(imputed_values)"
   ]
  },
  {
   "cell_type": "code",
   "execution_count": 19,
   "id": "66a03fe1",
   "metadata": {},
   "outputs": [
    {
     "name": "stdout",
     "output_type": "stream",
     "text": [
      "[[ 0.    0.87  1.31]\n",
      " [ 1.   -0.67 -0.22]\n",
      " [ 0.    2.1   1.45]\n",
      " [ 1.    1.18  1.33]\n",
      " [ 0.    1.22  1.27]\n",
      " [ 1.   -0.2  -1.15]]\n"
     ]
    }
   ],
   "source": [
    "# 예측된 클래스와 원본을 열로 합침\n",
    "x_with_imputed = np.hstack((imputed_values.reshape(-1,1), x_with_nan[:,1:]))\n",
    "data = np.vstack((x_with_imputed, x))\n",
    "\n",
    "print(data)"
   ]
  },
  {
   "cell_type": "markdown",
   "id": "451735ae",
   "metadata": {},
   "source": [
    "# 누락된 클래스 값 대처 하기 (자주 등장하는 값)"
   ]
  },
  {
   "cell_type": "code",
   "execution_count": 23,
   "id": "1874fd99",
   "metadata": {},
   "outputs": [
    {
     "name": "stdout",
     "output_type": "stream",
     "text": [
      "[[  nan  0.87  1.31]\n",
      " [  nan -0.67 -0.22]\n",
      " [ 0.    2.1   1.45]\n",
      " [ 1.    1.18  1.33]\n",
      " [ 0.    1.22  1.27]\n",
      " [ 1.   -0.2  -1.15]]\n"
     ]
    }
   ],
   "source": [
    "x_complete = np.vstack((x_with_nan,x))\n",
    "print(x_complete)"
   ]
  },
  {
   "cell_type": "code",
   "execution_count": 24,
   "id": "cb519a06",
   "metadata": {},
   "outputs": [
    {
     "name": "stdout",
     "output_type": "stream",
     "text": [
      "[[ 0.    0.87  1.31]\n",
      " [ 0.   -0.67 -0.22]\n",
      " [ 0.    2.1   1.45]\n",
      " [ 1.    1.18  1.33]\n",
      " [ 0.    1.22  1.27]\n",
      " [ 1.   -0.2  -1.15]]\n"
     ]
    }
   ],
   "source": [
    "imputer = SimpleImputer(strategy='most_frequent')  # strategy --> most_frequent=자주 등장값, mean=평균, median=중앙값\n",
    "data_imputer = imputer.fit_transform(x_complete)\n",
    "print(data_imputer)"
   ]
  },
  {
   "cell_type": "code",
   "execution_count": null,
   "id": "d6ce34c8",
   "metadata": {},
   "outputs": [],
   "source": []
  }
 ],
 "metadata": {
  "kernelspec": {
   "display_name": "condatorch",
   "language": "python",
   "name": "condatorch"
  },
  "language_info": {
   "codemirror_mode": {
    "name": "ipython",
    "version": 3
   },
   "file_extension": ".py",
   "mimetype": "text/x-python",
   "name": "python",
   "nbconvert_exporter": "python",
   "pygments_lexer": "ipython3",
   "version": "3.8.16"
  }
 },
 "nbformat": 4,
 "nbformat_minor": 5
}
