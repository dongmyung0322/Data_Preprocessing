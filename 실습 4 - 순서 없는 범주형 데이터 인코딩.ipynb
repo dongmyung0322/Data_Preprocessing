{
 "cells": [
  {
   "cell_type": "code",
   "execution_count": 14,
   "id": "99be4d04",
   "metadata": {},
   "outputs": [],
   "source": [
    "import numpy as np\n",
    "from sklearn.preprocessing import LabelBinarizer, MultiLabelBinarizer\n",
    "from sklearn.preprocessing import OneHotEncoder"
   ]
  },
  {
   "cell_type": "code",
   "execution_count": 2,
   "id": "a44217ca",
   "metadata": {},
   "outputs": [],
   "source": [
    "features = np.array((['가나다라'],['가나다라'],['아바하자'],['카나다사']))"
   ]
  },
  {
   "cell_type": "code",
   "execution_count": 3,
   "id": "8f386c9a",
   "metadata": {},
   "outputs": [
    {
     "name": "stdout",
     "output_type": "stream",
     "text": [
      "['가나다라' '아바하자' '카나다사']\n"
     ]
    }
   ],
   "source": [
    "one_hot = LabelBinarizer()\n",
    "one_hot.fit_transform(features)\n",
    "one_hot.classes_\n",
    "\n",
    "print(one_hot.classes_)"
   ]
  },
  {
   "cell_type": "code",
   "execution_count": 6,
   "id": "0f2d97ea",
   "metadata": {},
   "outputs": [
    {
     "name": "stdout",
     "output_type": "stream",
     "text": [
      "['가나다라' '가나다라' '아바하자' '카나다사']\n"
     ]
    }
   ],
   "source": [
    "# 원래 데이터로 되돌리기\n",
    "one_hot_data = one_hot.inverse_transform(one_hot.transform(features))\n",
    "print(one_hot_data)"
   ]
  },
  {
   "cell_type": "code",
   "execution_count": 10,
   "id": "2cf8501b",
   "metadata": {},
   "outputs": [],
   "source": [
    "# 다중 클레스에 대한 처리\n",
    "multiclass_features = [('가나다라마','아자바하나'), ('자다가나라','자다나타하'),\n",
    "                       ('가나다라마','아자바하나'), ('아마자나가','아카나다하'), ('가나다라마','아자바하나'),]"
   ]
  },
  {
   "cell_type": "code",
   "execution_count": 11,
   "id": "e63ff059",
   "metadata": {},
   "outputs": [
    {
     "name": "stdout",
     "output_type": "stream",
     "text": [
      "['가나다라마' '아마자나가' '아자바하나' '아카나다하' '자다가나라' '자다나타하']\n"
     ]
    }
   ],
   "source": [
    "one_hot_multiclass = MultiLabelBinarizer()\n",
    "one_hot_multiclass.fit_transform(multiclass_features)\n",
    "one_hot_multidata = one_hot_multiclass.classes_\n",
    "print(one_hot_multidata)"
   ]
  },
  {
   "cell_type": "code",
   "execution_count": 12,
   "id": "044c3e27",
   "metadata": {},
   "outputs": [],
   "source": [
    "# 문자열 타겟 데이터 원핫 인코딩\n",
    "str_feature = np.array([['안녕',1], ['저녁',3], ['안녕',1], ['점심',1]])"
   ]
  },
  {
   "cell_type": "code",
   "execution_count": 17,
   "id": "03244ddc",
   "metadata": {},
   "outputs": [
    {
     "name": "stdout",
     "output_type": "stream",
     "text": [
      "[array(['안녕', '저녁', '점심'], dtype='<U11'), array(['1', '3'], dtype='<U11')]\n"
     ]
    },
    {
     "name": "stderr",
     "output_type": "stream",
     "text": [
      "C:\\anaconda3\\envs\\condatorch\\lib\\site-packages\\sklearn\\preprocessing\\_encoders.py:868: FutureWarning: `sparse` was renamed to `sparse_output` in version 1.2 and will be removed in 1.4. `sparse_output` is ignored unless you leave `sparse` to its default value.\n",
      "  warnings.warn(\n"
     ]
    }
   ],
   "source": [
    "one_hot_encoder = OneHotEncoder(sparse=False)\n",
    "one_hot_encoder.fit_transform(str_feature)\n",
    "one_hot_encoder_data = one_hot_encoder.categories_\n",
    "print(one_hot_encoder_data)"
   ]
  },
  {
   "cell_type": "code",
   "execution_count": null,
   "id": "c37b146c",
   "metadata": {},
   "outputs": [],
   "source": []
  }
 ],
 "metadata": {
  "kernelspec": {
   "display_name": "condatorch",
   "language": "python",
   "name": "condatorch"
  },
  "language_info": {
   "codemirror_mode": {
    "name": "ipython",
    "version": 3
   },
   "file_extension": ".py",
   "mimetype": "text/x-python",
   "name": "python",
   "nbconvert_exporter": "python",
   "pygments_lexer": "ipython3",
   "version": "3.8.16"
  }
 },
 "nbformat": 4,
 "nbformat_minor": 5
}
