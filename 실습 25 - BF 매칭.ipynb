{
 "cells": [
  {
   "cell_type": "code",
   "execution_count": 1,
   "id": "1503d3f1",
   "metadata": {},
   "outputs": [],
   "source": [
    "import cv2\n",
    "import numpy as np"
   ]
  },
  {
   "cell_type": "code",
   "execution_count": 2,
   "id": "2cf9906f",
   "metadata": {},
   "outputs": [],
   "source": [
    "img1 = cv2.imread('./data/apple.png', cv2.IMREAD_GRAYSCALE)\n",
    "img2 = cv2.imread('./data/apple.png', cv2.IMREAD_GRAYSCALE)"
   ]
  },
  {
   "cell_type": "code",
   "execution_count": null,
   "id": "f15b8fe1",
   "metadata": {},
   "outputs": [],
   "source": [
    "orb = cv2.ORB_create()\n",
    "\n",
    "# 특징점 검출 & 디스크립터 계산\n",
    "keypoints1, descriptors1 = orb.detectAndCompute(img1, None)\n",
    "keypoints2, descriptors2 = orb.detectAndCompute(img2, None)\n"
   ]
  },
  {
   "cell_type": "code",
   "execution_count": null,
   "id": "8de474bf",
   "metadata": {},
   "outputs": [],
   "source": [
    "# FLANN 매처 생성\n",
    "index_params = dict(algorithm=6, table_numbers=6, key_size=12, multi_prob_level=1)\n",
    "search_params = dict(checks=50) # 탐색 횟수\n",
    "bf = cv2.BFMatcher(cv2.NORM_HAMMING, crossCheck=True)\n",
    "\n",
    "# 특징점 매칭\n",
    "matches =  bf.match(descriptors1, descriptors2)\n",
    "\n",
    "# 결과 확인\n",
    "matches = sorted(matches, key=lambda x:x.distance)\n",
    "print(matches)"
   ]
  },
  {
   "cell_type": "code",
   "execution_count": null,
   "id": "ce570f68",
   "metadata": {},
   "outputs": [],
   "source": [
    "# 시각화\n",
    "result = cv2.drawMatches(img1, keypoints1, img2, keypoints2, matches[:20], None, flags=cv2.DrawMatchesFlags_NOT_DRAW_SINGLE_POINTS)\n",
    "cv2.imshow('Matches',result)"
   ]
  },
  {
   "cell_type": "code",
   "execution_count": null,
   "id": "d4a84c4b",
   "metadata": {},
   "outputs": [],
   "source": [
    "# 매칭 퍼샌트 계산\n",
    "num_matches = len(matches)\n",
    "num_good_matches = sum( l for m in matches if m.distance<50) # 임계값을 적절하게 설정\n",
    "matching_percent = (num_good_matches / num_matches)\n",
    "\n",
    "print(matching_percent)\n",
    "\n",
    "cv2.waitKey(0)\n",
    "cv2.destroyAllWindows"
   ]
  },
  {
   "cell_type": "code",
   "execution_count": null,
   "id": "91d2244e",
   "metadata": {},
   "outputs": [],
   "source": []
  }
 ],
 "metadata": {
  "kernelspec": {
   "display_name": "condatorch",
   "language": "python",
   "name": "condatorch"
  },
  "language_info": {
   "codemirror_mode": {
    "name": "ipython",
    "version": 3
   },
   "file_extension": ".py",
   "mimetype": "text/x-python",
   "name": "python",
   "nbconvert_exporter": "python",
   "pygments_lexer": "ipython3",
   "version": "3.8.16"
  }
 },
 "nbformat": 4,
 "nbformat_minor": 5
}
