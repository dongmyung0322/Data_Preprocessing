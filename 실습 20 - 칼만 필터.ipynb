{
 "cells": [
  {
   "cell_type": "code",
   "execution_count": 1,
   "id": "5032e278",
   "metadata": {},
   "outputs": [],
   "source": [
    "import cv2\n",
    "import numpy as np"
   ]
  },
  {
   "cell_type": "code",
   "execution_count": 2,
   "id": "29f37174",
   "metadata": {},
   "outputs": [],
   "source": [
    "kalman = cv2.KalmanFilter(4,2)\n",
    "kalman.measurementMatrix = np.array([[1,0,0,0],\n",
    "                                    [0,1,0,0]], np.float32)  # 측정 백터의 위치값을 상대 백터로 옮기기 위한 관계 행렬\n",
    "kalman.transitionMatrix = np.array([[1,0,1,0],             \n",
    "                                   [0,1,0,1],\n",
    "                                   [0,0,1,0],                    # 동역학을 모델링하고 상태 변화를 표현하기 위해\n",
    "                                   [0,0,0,1]], np.float32)       # 현재 상태를 다음 상태 백터로 변환하기 위한 행렬\n",
    "kalman.processNoiseCov = np.array([[1,0,0,0],\n",
    "                                  [0,1,0,0],\n",
    "                                  [0,0,1,0],\n",
    "                                  [0,0,0,1]], np.float32) * 0.05"
   ]
  },
  {
   "cell_type": "code",
   "execution_count": 3,
   "id": "2e8944ef",
   "metadata": {},
   "outputs": [],
   "source": [
    "cap = cv2.VideoCapture('./data/slow_traffic_small.mp4')\n",
    "\n",
    "ret, frame = cap.read()\n",
    "bbox = cv2.selectROI('Select Object', frame, False, False)\n",
    "\n",
    "# 객체 추적을 위한 초기 추정 위치 설정\n",
    "kalman.statePre = np.array([[bbox[0]],\n",
    "                           [bbox[1]],\n",
    "                           [0],\n",
    "                           [0]], np.float32)  # array (초기 x 좌표, y좌표, x방향 속도, y방향 속도 [초기값 0])"
   ]
  },
  {
   "cell_type": "code",
   "execution_count": null,
   "id": "eaccf50a",
   "metadata": {},
   "outputs": [],
   "source": [
    "while True:\n",
    "    ret, frame = cap.read()\n",
    "    if not ret:\n",
    "        break\n",
    "        \n",
    "    # 칼만 필터를 사용하여 객체 추적 (바운딩 박스의 중심점)\n",
    "    kalman.correct(np.array([[np.float32(bbox[0] + bbox[2]/2)],\n",
    "                            [np.float32(bbox[1] + bbox[3]/2)]]))\n",
    "    kalman.predict()\n",
    "    \n",
    "    # 칼만 필터로 추적된 객체 위치\n",
    "    predicted_bbox = tuple(map(int, kalman.statePost[:2,0]))\n",
    "    \n",
    "    # 시각화\n",
    "    cv2.rectangle(frame, (predicted_bbox[0]-bbox[2] // 2, predicted_bbox[1]- bbox[3] // 2), \n",
    "                  (predicted_bbox[0] + bbox[2]//2, predicted_bbox[1] + bbox[3]//2), (0,255,0), 2)\n",
    "    \n",
    "    cv2.imshow('Kalman filter tracking', frame)\n",
    "    \n",
    "    if cv2.waitKey(30) & 0xFF == ord('q'):\n",
    "        break\n",
    "\n",
    "cap.release()\n",
    "cv2.destroyAllWindows()\n",
    "    "
   ]
  }
 ],
 "metadata": {
  "kernelspec": {
   "display_name": "condatorch",
   "language": "python",
   "name": "condatorch"
  },
  "language_info": {
   "codemirror_mode": {
    "name": "ipython",
    "version": 3
   },
   "file_extension": ".py",
   "mimetype": "text/x-python",
   "name": "python",
   "nbconvert_exporter": "python",
   "pygments_lexer": "ipython3",
   "version": "3.8.16"
  }
 },
 "nbformat": 4,
 "nbformat_minor": 5
}
